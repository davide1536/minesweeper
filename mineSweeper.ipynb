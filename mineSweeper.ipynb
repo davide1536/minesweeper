{
  "nbformat": 4,
  "nbformat_minor": 0,
  "metadata": {
    "colab": {
      "name": "mineSweeper.ipynb",
      "provenance": [],
      "collapsed_sections": [],
      "authorship_tag": "ABX9TyN2ZnD8NxlSDA8502U8l6Ne",
      "include_colab_link": true
    },
    "kernelspec": {
      "name": "python3",
      "display_name": "Python 3"
    },
    "language_info": {
      "name": "python"
    }
  },
  "cells": [
    {
      "cell_type": "markdown",
      "metadata": {
        "id": "view-in-github",
        "colab_type": "text"
      },
      "source": [
        "<a href=\"https://colab.research.google.com/github/davide1536/minesweeper/blob/main/mineSweeper.ipynb\" target=\"_parent\"><img src=\"https://colab.research.google.com/assets/colab-badge.svg\" alt=\"Open In Colab\"/></a>"
      ]
    },
    {
      "cell_type": "code",
      "source": [
        "import random \n",
        "import numpy as np"
      ],
      "metadata": {
        "id": "Igrz4xITJiLE"
      },
      "execution_count": null,
      "outputs": []
    },
    {
      "cell_type": "code",
      "source": [
        "def countMines(row,col,board, size):\n",
        "  counter = 0\n",
        "  #calcolo per celle interne\n",
        "  for i in range(3):\n",
        "    for j in range(3):\n",
        "      if (row-1+i >= 0 and row-1+i <= size-1) and (col-1+j >= 0 and col-1+j <= size-1):\n",
        "        if board[row-1+i, col-1+j] == -1:\n",
        "          counter += 1\n",
        "        \n",
        "     \n",
        "  \n",
        "  return counter"
      ],
      "metadata": {
        "id": "f8AqwGfEyGxo"
      },
      "execution_count": null,
      "outputs": []
    },
    {
      "cell_type": "code",
      "source": [
        "#function that, for each cell, counts the number of mines around it\n",
        "def fillBoard(board, size):\n",
        "  \n",
        "  for row in range(size):\n",
        "    for col in range(size):\n",
        "      if board[row,col] != -1:\n",
        "        n_mines = countMines(row, col, board, size)\n",
        "        board[row,col] = n_mines\n",
        "    \n",
        "      \n",
        "    \n",
        "  return board\n"
      ],
      "metadata": {
        "id": "rqy8GPCQNp84"
      },
      "execution_count": null,
      "outputs": []
    },
    {
      "cell_type": "code",
      "source": [
        "\n",
        "def buildBoard(size, probability):\n",
        "  total_mines = 0\n",
        "  #board[i][j] = 0 --> no bomb\n",
        "  #board[i][j] = 1 --> bomb\n",
        "  print(\"inizializzo board di gioco\")\n",
        "  board = np.zeros((size,size))\n",
        "  for row in range(size):\n",
        "    for col in range(size):\n",
        "      randomNumber = random.uniform(0,1)\n",
        "      if randomNumber <= probability:\n",
        "        board[row,col] = -1\n",
        "        total_mines += 1\n",
        "      else:\n",
        "        board[row,col] = 0\n",
        "\n",
        "\n",
        "  board = fillBoard(board, size)\n",
        "  print(\"board di gioco inizializzata con \",total_mines, \" \",\"mine\")\n",
        "  return board\n",
        "      "
      ],
      "metadata": {
        "id": "C8ZoquJ7Fof6"
      },
      "execution_count": null,
      "outputs": []
    },
    {
      "cell_type": "code",
      "execution_count": null,
      "metadata": {
        "colab": {
          "base_uri": "https://localhost:8080/"
        },
        "id": "LXz1On0Jwf1q",
        "outputId": "570c9909-a9f7-4ff5-bfbc-6836b6cf0ef0"
      },
      "outputs": [
        {
          "output_type": "stream",
          "name": "stdout",
          "text": [
            "inizializzo board di gioco\n",
            "board di gioco inizializzata con  13   mine\n",
            "[[ 2. -1.  2.  0.  0.  0.  0.  1. -1.]\n",
            " [ 2. -1.  2.  0.  0.  0.  0.  1.  1.]\n",
            " [ 1.  1.  1.  0.  0.  0.  1.  2.  2.]\n",
            " [ 0.  0.  0.  0.  0.  0.  2. -1. -1.]\n",
            " [ 1.  1.  1.  0.  0.  1.  3. -1.  3.]\n",
            " [ 2. -1.  2.  0.  0.  1. -1.  2.  1.]\n",
            " [ 2. -1.  2.  0.  0.  1.  1.  1.  0.]\n",
            " [ 1.  2.  3.  2.  1.  0.  1.  2.  2.]\n",
            " [ 0.  1. -1. -1.  1.  0.  1. -1. -1.]]\n"
          ]
        }
      ],
      "source": [
        "#build a 9x9 board\n",
        "SIZE = 9\n",
        "bomb_probability = 1/10\n",
        "board = buildBoard(SIZE, bomb_probability)\n",
        "print(board)"
      ]
    }
  ]
}