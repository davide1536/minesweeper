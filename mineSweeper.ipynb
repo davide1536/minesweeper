{
  "nbformat": 4,
  "nbformat_minor": 0,
  "metadata": {
    "colab": {
      "name": "mineSweeper.ipynb",
      "provenance": [],
      "collapsed_sections": [],
      "authorship_tag": "ABX9TyOEIIBsqtkHddzTGY3gV0sg",
      "include_colab_link": true
    },
    "kernelspec": {
      "name": "python3",
      "display_name": "Python 3"
    },
    "language_info": {
      "name": "python"
    }
  },
  "cells": [
    {
      "cell_type": "markdown",
      "metadata": {
        "id": "view-in-github",
        "colab_type": "text"
      },
      "source": [
        "<a href=\"https://colab.research.google.com/github/davide1536/minesweeper/blob/main/mineSweeper.ipynb\" target=\"_parent\"><img src=\"https://colab.research.google.com/assets/colab-badge.svg\" alt=\"Open In Colab\"/></a>"
      ]
    },
    {
      "cell_type": "code",
      "source": [
        "import random \n",
        "import numpy as np\n"
      ],
      "metadata": {
        "id": "Igrz4xITJiLE"
      },
      "execution_count": 26,
      "outputs": []
    },
    {
      "cell_type": "code",
      "source": [
        "def getCellIntersection(values, cells):\n",
        "  cellIntersection = []\n",
        "  for cell in cells:\n",
        "    if cell.value == "
      ],
      "metadata": {
        "id": "BDE-X4XVlLwu"
      },
      "execution_count": null,
      "outputs": []
    },
    {
      "cell_type": "code",
      "source": [
        "def intersection(lst1, lst2):\n",
        "  return set(lst1).intersection(lst2)"
      ],
      "metadata": {
        "id": "2-c1JDn0PKbj"
      },
      "execution_count": 27,
      "outputs": []
    },
    {
      "cell_type": "code",
      "source": [
        "#TODO: sistemare l'aggiornamento della knowledge base\n",
        "def removePositiveproposition(knowledge, currentCells, currentIndex, dictionary):\n",
        "  for i,cells in enumerate(knowledge.totalCells):\n",
        "    if i != currentIndex:\n",
        "      intersection = removeAndUpdateProposition(knowledge, currentCells, cells, dictionary, i)\n",
        "      knowledge.totalCells[index] = list(set(knowledge.totalCells[index]) - set(intersection))"
      ],
      "metadata": {
        "id": "9_oL4RVprtJs"
      },
      "execution_count": null,
      "outputs": []
    },
    {
      "cell_type": "code",
      "source": [
        "def removeNegativeProposition(knowledge, currentCells, currentIndex, dictionary):\n",
        "  for i,cells in enumerate(knowledge.totalCells):\n",
        "    if i != currentIndex:\n",
        "      removeAndUpdateProposition(knowledge, currentCells, dictionary,i)\n",
        "      knowledge.count[i] -= currentCells.value"
      ],
      "metadata": {
        "id": "Wnt33hl6NHnv"
      },
      "execution_count": 28,
      "outputs": []
    },
    {
      "cell_type": "code",
      "source": [
        "def removeAndUpdateProposition(knowledge, currentCells, cells, dictionary, index):\n",
        "\n",
        "  print(\"rimuovo proposizioni\")\n",
        "  propIntersection = intersection([prop1 for prop1 in cells.proposition], [prop2 for pop2 in currentCells.proposition])\n",
        "  cellIntersection = [dictionary[prop] for prop in propIntersection]\n",
        "  print(\"intersezione tra \", [prop1 for prop1 in cells.proposition], \" e \",[prop2 for pop2 in currentCells.proposition], \" é \", propIntersection)\n",
        "  return cellIntersection\n",
        " "
      ],
      "metadata": {
        "id": "6ccEgqcsL0Ew"
      },
      "execution_count": 29,
      "outputs": []
    },
    {
      "cell_type": "code",
      "source": [
        "def updateKnowledge(knowledge,board):\n",
        "  for i,cells in enumerate(knowledge.totalCells):\n",
        "      if knowledge.count[i] == 0:\n",
        "        print(\"trovato celle con counter 0\")\n",
        "        for cell in cells:\n",
        "          cell.safe = 1\n",
        "        removePositiveProposition(knowledge, cells, i, board)\n",
        "      if knowledge.count[i] == len(cells):\n",
        "        for cell in cells:\n",
        "          cell.safe = 0\n",
        "          cell.proposition = -cell.proposition\n",
        "      removeNegativeProposition(knowledge, cells, i,board)"
      ],
      "metadata": {
        "id": "-LixDlcebMfF"
      },
      "execution_count": 30,
      "outputs": []
    },
    {
      "cell_type": "code",
      "source": [
        "def buildCellDictionary(board):\n",
        "  dictionary = {}\n",
        "  for row in range(SIZE):\n",
        "    for col in range(SIZE):\n",
        "      dictionary[codeProposition(row, col)] = createCell(board[row,col], row, col)\n",
        "  \n",
        "  return dictionary\n"
      ],
      "metadata": {
        "id": "swSXjJJEMl7H"
      },
      "execution_count": 31,
      "outputs": []
    },
    {
      "cell_type": "code",
      "source": [
        "def codeProposition(value1, value2):\n",
        "  return value1 * SIZE + value2"
      ],
      "metadata": {
        "id": "YQ3hswZcA3_I"
      },
      "execution_count": 32,
      "outputs": []
    },
    {
      "cell_type": "code",
      "source": [
        "def findSafeCell(board):\n",
        "  pass"
      ],
      "metadata": {
        "id": "9mhoVhjEAuV-"
      },
      "execution_count": 33,
      "outputs": []
    },
    {
      "cell_type": "code",
      "source": [
        "def createKnowledge(cell, board, knowledge):\n",
        "  print(\"creo knowledge della cella in posizione: \", cell.row, \" \", cell.col)\n",
        "  currentKnowledge = []\n",
        "  value = cell.value\n",
        "  for i in range(3):\n",
        "    for j in range(3):\n",
        "     if (cell.row-1+i >= 0 and cell.row-1+i <= SIZE-1) and (cell.col-1+j >= 0 and cell.col-1+j <= SIZE-1):\n",
        "       currentKnowledge.append(board[codeProposition(cell.row-1+i,cell.col-1+j)])\n",
        "  \n",
        "  knowledge.totalCells.append(currentKnowledge)\n",
        "  knowledge.count.append(cell.value)\n",
        "  updateKnowledge(knowledge,board)\n"
      ],
      "metadata": {
        "id": "POJFSdT9UtuU"
      },
      "execution_count": 34,
      "outputs": []
    },
    {
      "cell_type": "code",
      "source": [
        "def checkTrivialSafeCell(board):\n",
        "  pass"
      ],
      "metadata": {
        "id": "7_85_Nx4-mty"
      },
      "execution_count": 35,
      "outputs": []
    },
    {
      "cell_type": "code",
      "source": [
        "def selectNextSafeCell(board):\n",
        "  nextCell = checkTrivialSafeCell(board)\n",
        "  #if there aren't any trivial safe cell use sat solver on clause\n",
        "  if nextCell == 0:\n",
        "    nextCell = findSafeCell(board)\n",
        "    \n",
        "  return nextCell\n"
      ],
      "metadata": {
        "id": "Gj_TuZJD7gSt"
      },
      "execution_count": 36,
      "outputs": []
    },
    {
      "cell_type": "code",
      "source": [
        "def countMines(row,col,board, size):\n",
        "  counter = 0\n",
        "\n",
        "  for i in range(3):\n",
        "    for j in range(3):\n",
        "      if (row-1+i >= 0 and row-1+i <= size-1) and (col-1+j >= 0 and col-1+j <= size-1):\n",
        "        if board[row-1+i, col-1+j] == -1:\n",
        "          counter += 1\n",
        "        \n",
        "     \n",
        "  \n",
        "  return counter"
      ],
      "metadata": {
        "id": "f8AqwGfEyGxo"
      },
      "execution_count": 37,
      "outputs": []
    },
    {
      "cell_type": "code",
      "source": [
        "#function that, for each cell, counts the number of mines around it\n",
        "def fillBoard(board, size):\n",
        "  \n",
        "  for row in range(size):\n",
        "    for col in range(size):\n",
        "      if board[row,col] != -1:\n",
        "        n_mines = countMines(row, col, board, size)\n",
        "        board[row,col] = n_mines\n",
        "    \n",
        "      \n",
        "    \n",
        "  return board\n"
      ],
      "metadata": {
        "id": "rqy8GPCQNp84"
      },
      "execution_count": 38,
      "outputs": []
    },
    {
      "cell_type": "code",
      "source": [
        "\n",
        "def buildBoard(size, probability):\n",
        "  total_mines = 0\n",
        "  #board[i][j] = 0 --> no bomb\n",
        "  #board[i][j] = 1 --> bomb\n",
        "  print(\"inizializzo board di gioco\")\n",
        "  board = np.zeros((size,size))\n",
        "  for row in range(size):\n",
        "    for col in range(size):\n",
        "      randomNumber = random.uniform(0,1)\n",
        "      if randomNumber <= probability:\n",
        "        board[row,col] = -1\n",
        "        total_mines += 1\n",
        "      else:\n",
        "        board[row,col] = 0\n",
        "\n",
        "\n",
        "  board = fillBoard(board, size)\n",
        "  print(\"board di gioco inizializzata con \",total_mines, \" \",\"mine\")\n",
        "  return board\n",
        "      "
      ],
      "metadata": {
        "id": "C8ZoquJ7Fof6"
      },
      "execution_count": 39,
      "outputs": []
    },
    {
      "cell_type": "code",
      "source": [
        "def createCell(value, row, col):\n",
        "  cell = Cell()\n",
        "  cell.value = value\n",
        "  if cell.value >= 0:\n",
        "    cell.safe = 1\n",
        "  else:\n",
        "    cell.safe = 0\n",
        "    \n",
        "  cell.selected = 0\n",
        "  cell.row = row\n",
        "  cell.col = col\n",
        "\n",
        "  cell.proposition = codeProposition(row,col)\n",
        "  return cell"
      ],
      "metadata": {
        "id": "MOYsvsfKAhGj"
      },
      "execution_count": 43,
      "outputs": []
    },
    {
      "cell_type": "code",
      "source": [
        "def startGame(board, knowledge):\n",
        "  result = \"\"\n",
        "  firstCell = board[codeProposition(0,0)]\n",
        "  firstCell.selected = 1\n",
        "\n",
        "  if firstCell.value == -1:\n",
        "    result = \"lose\"\n",
        "  else:\n",
        "    createKnowledge(firstCell, board, knowledge)\n",
        "\n",
        " \n",
        "\n",
        "  while not(result == \"win\") and not(result == \"lose\"):\n",
        "    \n",
        "    cell = selectNextSafeCell(board)\n",
        "    if cell.value == -1:\n",
        "      result = \"lose\"\n",
        "    else:\n",
        "      createKnowledge(cell, board, knowledge)\n",
        "\n",
        "\n",
        "  return result"
      ],
      "metadata": {
        "id": "fc8d0djV406l"
      },
      "execution_count": 44,
      "outputs": []
    },
    {
      "cell_type": "code",
      "source": [
        "class InternalRepresentation:\n",
        "  def __init__(self) -> None:\n",
        "    self.totalCells = []\n",
        "    self.count = []"
      ],
      "metadata": {
        "id": "Klb6U-jLlhHi"
      },
      "execution_count": null,
      "outputs": []
    },
    {
      "cell_type": "code",
      "source": [
        "class Cell:\n",
        "  def __init__(self) -> None:\n",
        "    self.safe = 0\n",
        "    self.value = 0\n",
        "    self.proposition = 0\n",
        "    self.selected = 0\n",
        "    self.row = 0\n",
        "    self.col = 0"
      ],
      "metadata": {
        "id": "o6LZuAXRlhrP"
      },
      "execution_count": null,
      "outputs": []
    },
    {
      "cell_type": "code",
      "source": [
        "#build a 9x9 board\n",
        "SIZE = 9\n",
        "bomb_probability = 1/6\n",
        "board = buildBoard(SIZE, bomb_probability)\n",
        "print(board)"
      ],
      "metadata": {
        "id": "9EwPzHazldrG"
      },
      "execution_count": null,
      "outputs": []
    },
    {
      "cell_type": "code",
      "source": [
        "#start game from the up-left corner\n",
        "knowledge = InternalRepresentation();\n",
        "boardDictionary = buildCellDictionary(board)\n",
        "result = startGame(boardDictionary, knowledge)\n",
        "print(result)      "
      ],
      "metadata": {
        "colab": {
          "base_uri": "https://localhost:8080/",
          "height": 376
        },
        "id": "zFypVh6jCALH",
        "outputId": "e5e08bd6-7e1d-405f-f4fb-187649fab132"
      },
      "execution_count": 45,
      "outputs": [
        {
          "output_type": "stream",
          "name": "stdout",
          "text": [
            "creo knowledge della cella in posizione:  0   0\n"
          ]
        },
        {
          "output_type": "error",
          "ename": "AttributeError",
          "evalue": "ignored",
          "traceback": [
            "\u001b[0;31m---------------------------------------------------------------------------\u001b[0m",
            "\u001b[0;31mAttributeError\u001b[0m                            Traceback (most recent call last)",
            "\u001b[0;32m<ipython-input-45-9ffc0adea1f4>\u001b[0m in \u001b[0;36m<module>\u001b[0;34m()\u001b[0m\n\u001b[1;32m      2\u001b[0m \u001b[0mknowledge\u001b[0m \u001b[0;34m=\u001b[0m \u001b[0mInternalRepresentation\u001b[0m\u001b[0;34m(\u001b[0m\u001b[0;34m)\u001b[0m\u001b[0;34m;\u001b[0m\u001b[0;34m\u001b[0m\u001b[0;34m\u001b[0m\u001b[0m\n\u001b[1;32m      3\u001b[0m \u001b[0mboardDictionary\u001b[0m \u001b[0;34m=\u001b[0m \u001b[0mbuildCellDictionary\u001b[0m\u001b[0;34m(\u001b[0m\u001b[0mboard\u001b[0m\u001b[0;34m)\u001b[0m\u001b[0;34m\u001b[0m\u001b[0;34m\u001b[0m\u001b[0m\n\u001b[0;32m----> 4\u001b[0;31m \u001b[0mresult\u001b[0m \u001b[0;34m=\u001b[0m \u001b[0mstartGame\u001b[0m\u001b[0;34m(\u001b[0m\u001b[0mboardDictionary\u001b[0m\u001b[0;34m,\u001b[0m \u001b[0mknowledge\u001b[0m\u001b[0;34m)\u001b[0m\u001b[0;34m\u001b[0m\u001b[0;34m\u001b[0m\u001b[0m\n\u001b[0m\u001b[1;32m      5\u001b[0m \u001b[0mprint\u001b[0m\u001b[0;34m(\u001b[0m\u001b[0mresult\u001b[0m\u001b[0;34m)\u001b[0m\u001b[0;34m\u001b[0m\u001b[0;34m\u001b[0m\u001b[0m\n",
            "\u001b[0;32m<ipython-input-44-d87297c3a0fe>\u001b[0m in \u001b[0;36mstartGame\u001b[0;34m(board, knowledge)\u001b[0m\n\u001b[1;32m     14\u001b[0m \u001b[0;34m\u001b[0m\u001b[0m\n\u001b[1;32m     15\u001b[0m     \u001b[0mcell\u001b[0m \u001b[0;34m=\u001b[0m \u001b[0mselectNextSafeCell\u001b[0m\u001b[0;34m(\u001b[0m\u001b[0mboard\u001b[0m\u001b[0;34m)\u001b[0m\u001b[0;34m\u001b[0m\u001b[0;34m\u001b[0m\u001b[0m\n\u001b[0;32m---> 16\u001b[0;31m     \u001b[0;32mif\u001b[0m \u001b[0mcell\u001b[0m\u001b[0;34m.\u001b[0m\u001b[0mvalue\u001b[0m \u001b[0;34m==\u001b[0m \u001b[0;34m-\u001b[0m\u001b[0;36m1\u001b[0m\u001b[0;34m:\u001b[0m\u001b[0;34m\u001b[0m\u001b[0;34m\u001b[0m\u001b[0m\n\u001b[0m\u001b[1;32m     17\u001b[0m       \u001b[0mresult\u001b[0m \u001b[0;34m=\u001b[0m \u001b[0;34m\"lose\"\u001b[0m\u001b[0;34m\u001b[0m\u001b[0;34m\u001b[0m\u001b[0m\n\u001b[1;32m     18\u001b[0m     \u001b[0;32melse\u001b[0m\u001b[0;34m:\u001b[0m\u001b[0;34m\u001b[0m\u001b[0;34m\u001b[0m\u001b[0m\n",
            "\u001b[0;31mAttributeError\u001b[0m: 'NoneType' object has no attribute 'value'"
          ]
        }
      ]
    }
  ]
}