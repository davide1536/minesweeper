{
  "nbformat": 4,
  "nbformat_minor": 0,
  "metadata": {
    "colab": {
      "name": "mineSweeper.ipynb",
      "provenance": [],
      "collapsed_sections": [],
      "authorship_tag": "ABX9TyM292xTvGiOU3bajmYxT1nx",
      "include_colab_link": true
    },
    "kernelspec": {
      "name": "python3",
      "display_name": "Python 3"
    },
    "language_info": {
      "name": "python"
    }
  },
  "cells": [
    {
      "cell_type": "markdown",
      "metadata": {
        "id": "view-in-github",
        "colab_type": "text"
      },
      "source": [
        "<a href=\"https://colab.research.google.com/github/davide1536/minesweeper/blob/main/mineSweeper.ipynb\" target=\"_parent\"><img src=\"https://colab.research.google.com/assets/colab-badge.svg\" alt=\"Open In Colab\"/></a>"
      ]
    },
    {
      "cell_type": "code",
      "source": [
        "!pip install python-sat[pblib,aiger]"
      ],
      "metadata": {
        "colab": {
          "base_uri": "https://localhost:8080/"
        },
        "id": "afhFef0Z4oUn",
        "outputId": "29b69712-4468-42e2-c756-949643c640eb"
      },
      "execution_count": 28,
      "outputs": [
        {
          "output_type": "stream",
          "name": "stdout",
          "text": [
            "Looking in indexes: https://pypi.org/simple, https://us-python.pkg.dev/colab-wheels/public/simple/\n",
            "Requirement already satisfied: python-sat[aiger,pblib] in /usr/local/lib/python3.7/dist-packages (0.1.7.dev19)\n",
            "Requirement already satisfied: six in /usr/local/lib/python3.7/dist-packages (from python-sat[aiger,pblib]) (1.15.0)\n",
            "Requirement already satisfied: pypblib>=0.0.3 in /usr/local/lib/python3.7/dist-packages (from python-sat[aiger,pblib]) (0.0.4)\n",
            "Requirement already satisfied: py-aiger-cnf>=2.0.0 in /usr/local/lib/python3.7/dist-packages (from python-sat[aiger,pblib]) (5.0.4)\n",
            "Requirement already satisfied: bidict<0.22.0,>=0.21.0 in /usr/local/lib/python3.7/dist-packages (from py-aiger-cnf>=2.0.0->python-sat[aiger,pblib]) (0.21.4)\n",
            "Requirement already satisfied: py-aiger<7.0.0,>=6.0.0 in /usr/local/lib/python3.7/dist-packages (from py-aiger-cnf>=2.0.0->python-sat[aiger,pblib]) (6.1.24)\n",
            "Requirement already satisfied: funcy<2.0,>=1.12 in /usr/local/lib/python3.7/dist-packages (from py-aiger-cnf>=2.0.0->python-sat[aiger,pblib]) (1.17)\n",
            "Requirement already satisfied: attrs<22,>=21 in /usr/local/lib/python3.7/dist-packages (from py-aiger<7.0.0,>=6.0.0->py-aiger-cnf>=2.0.0->python-sat[aiger,pblib]) (21.4.0)\n",
            "Requirement already satisfied: toposort<2.0,>=1.5 in /usr/local/lib/python3.7/dist-packages (from py-aiger<7.0.0,>=6.0.0->py-aiger-cnf>=2.0.0->python-sat[aiger,pblib]) (1.7)\n",
            "Requirement already satisfied: pyrsistent<0.19.0,>=0.18.0 in /usr/local/lib/python3.7/dist-packages (from py-aiger<7.0.0,>=6.0.0->py-aiger-cnf>=2.0.0->python-sat[aiger,pblib]) (0.18.1)\n",
            "Requirement already satisfied: sortedcontainers<3.0.0,>=2.3.0 in /usr/local/lib/python3.7/dist-packages (from py-aiger<7.0.0,>=6.0.0->py-aiger-cnf>=2.0.0->python-sat[aiger,pblib]) (2.4.0)\n",
            "Requirement already satisfied: parsimonious<0.9.0,>=0.8.1 in /usr/local/lib/python3.7/dist-packages (from py-aiger<7.0.0,>=6.0.0->py-aiger-cnf>=2.0.0->python-sat[aiger,pblib]) (0.8.1)\n"
          ]
        }
      ]
    },
    {
      "cell_type": "code",
      "source": [
        "import random \n",
        "import numpy as np\n",
        "from pysat.solvers import Solver\n",
        "from pysat.card import *"
      ],
      "metadata": {
        "id": "Igrz4xITJiLE"
      },
      "execution_count": 107,
      "outputs": []
    },
    {
      "cell_type": "code",
      "source": [
        "def intersection(lst1, lst2):\n",
        "  return list(set(lst1).intersection(lst2))"
      ],
      "metadata": {
        "id": "2-c1JDn0PKbj"
      },
      "execution_count": 30,
      "outputs": []
    },
    {
      "cell_type": "code",
      "source": [
        "def difference(list1, list2):\n",
        "  return list(set(list1) - set(list2))"
      ],
      "metadata": {
        "id": "JQOHQa26xGhh"
      },
      "execution_count": 31,
      "outputs": []
    },
    {
      "cell_type": "code",
      "source": [
        "def selectCell(board, knowledge, tried):\n",
        "  for cells in knowledge.totalCells:\n",
        "    for cell in cells:\n",
        "      if board[cell].safe != 1 and board[cell].flag != 1 and not(cell in tried):\n",
        "        return cell"
      ],
      "metadata": {
        "id": "jYyWxRFTSl6a"
      },
      "execution_count": 99,
      "outputs": []
    },
    {
      "cell_type": "code",
      "source": [
        "def createClauses(board, knowledge):\n",
        "  clauses = []\n",
        "  for i,cells in enumerate(knowledge.totalCells):\n",
        "    if knowledge.count[i] != 0 and knowledge.count[i] != len(cells):\n",
        "      cnfClause = CardEnc.equals(lits = cells, bound = int(knowledge.count[i]))\n",
        "      clauses.append(cnfClause)\n",
        "\n",
        "  return clauses\n"
      ],
      "metadata": {
        "id": "ODJ4HWOsHylT"
      },
      "execution_count": 82,
      "outputs": []
    },
    {
      "cell_type": "code",
      "source": [
        "def createAssumptions(board,knowledge):\n",
        "  assumptions = []\n",
        "  for i, cells in enumerate(knowledge.totalCells):\n",
        "    if knowledge.count[i] == 0:\n",
        "      for cell in cells:\n",
        "        assumptions.append(board[cell].proposition)\n",
        "    elif knowledge.count[i] == len(cells):\n",
        "      for cell in cells:\n",
        "        assumptions.append(board[cell].proposition)\n",
        "\n",
        "  return assumptions"
      ],
      "metadata": {
        "id": "8IZ3OCOc_Nq1"
      },
      "execution_count": 61,
      "outputs": []
    },
    {
      "cell_type": "code",
      "source": [
        "def removePositiveProposition(knowledge, currentCells, currentIndex, dictionary):\n",
        "  for i,cells in enumerate(knowledge.totalCells):\n",
        "    if i != currentIndex:\n",
        "      removeAndUpdateProposition(knowledge, currentCells, cells, dictionary, i)\n",
        "      #print(\"differenza: \", knowledge.totalCells[i])\n",
        "      if knowledge.totalCells[i] == []:\n",
        "        #print(\"tolgo liste vuote\")\n",
        "        del knowledge.totalCells[i]\n",
        "        del knowledge.count[i]"
      ],
      "metadata": {
        "id": "9_oL4RVprtJs"
      },
      "execution_count": 32,
      "outputs": []
    },
    {
      "cell_type": "code",
      "source": [
        "def removeNegativeProposition(knowledge, currentCells, currentIndex, dictionary):\n",
        "  for i,cells in enumerate(knowledge.totalCells):\n",
        "    if i != currentIndex:\n",
        "      numberOfCells = removeAndUpdateProposition(knowledge, currentCells, cells, dictionary,i)\n",
        "      #print(\"differenza: \", knowledge.totalCells[i])\n",
        "      #print(\"counter attuale: \",knowledge.count[i])\n",
        "      knowledge.count[i] -= numberOfCells\n",
        "      #print(\"counter aggiornato: \", knowledge.count[i])\n",
        "      if knowledge.totalCells[i] == []:\n",
        "       # print(\"tolgo lister vuote\")\n",
        "        del knowledge.totalCells[i]\n",
        "        del knowledge.count[i]"
      ],
      "metadata": {
        "id": "Wnt33hl6NHnv"
      },
      "execution_count": 33,
      "outputs": []
    },
    {
      "cell_type": "code",
      "source": [
        "def removeAndUpdateProposition(knowledge, currentCells, cells, dictionary, index):\n",
        "\n",
        "  #print(\"rimuovo proposizioni\")\n",
        "  intersect= intersection(cells, currentCells)\n",
        "  #print(\"intersezione tra \", cells, \" e \",currentCells, \" é \", intersect)\n",
        "  diff = difference(knowledge.totalCells[index], intersect)\n",
        "  knowledge.totalCells[index] = diff\n",
        "  return len(intersect)\n",
        " "
      ],
      "metadata": {
        "id": "6ccEgqcsL0Ew"
      },
      "execution_count": 34,
      "outputs": []
    },
    {
      "cell_type": "code",
      "source": [
        "def updateKnowledge(knowledge,board):\n",
        "  for i,cells in enumerate(knowledge.totalCells):\n",
        "      if knowledge.count[i] == 0:\n",
        "        #print(\"trovato celle con counter 0\")\n",
        "        for cell in cells:\n",
        "          board[cell].safe = 1\n",
        "        removePositiveProposition(knowledge, cells, i, board)\n",
        "      if knowledge.count[i] == len(cells):\n",
        "        #print(\"trovato celle non safe\")\n",
        "        for cell in cells:\n",
        "          board[cell].safe = 0\n",
        "          board[cell].flag = 1\n",
        "          board[cell].proposition = - board[cell].proposition\n",
        "        removeNegativeProposition(knowledge, cells, i,board)"
      ],
      "metadata": {
        "id": "-LixDlcebMfF"
      },
      "execution_count": 87,
      "outputs": []
    },
    {
      "cell_type": "code",
      "source": [
        "def buildCellDictionary(board):\n",
        "  dictionary = {}\n",
        "  for row in range(SIZE):\n",
        "    for col in range(SIZE):\n",
        "      dictionary[codeId(row, col)] = createCell(board[row,col], row, col)\n",
        "  \n",
        "  return dictionary\n"
      ],
      "metadata": {
        "id": "swSXjJJEMl7H"
      },
      "execution_count": 36,
      "outputs": []
    },
    {
      "cell_type": "code",
      "source": [
        "def codeId(value1, value2):\n",
        "  return value1 * SIZE + value2"
      ],
      "metadata": {
        "id": "YQ3hswZcA3_I"
      },
      "execution_count": 37,
      "outputs": []
    },
    {
      "cell_type": "code",
      "source": [
        "def findSafeCell(board, knowledge):\n",
        " \n",
        "  cellTried = []\n",
        "  assumptions = createAssumptions(board, knowledge)\n",
        "  clauses = createClauses(board, knowledge)\n",
        "  \n",
        "  cell = selectCell(board,knowledge, cellTried)\n",
        "  cellTried.append(cell)\n",
        "  \n",
        "  print(\"provo a selezionare la cella: \", cell)\n",
        "\n",
        "  positiveSolver = Solver()\n",
        "  for formulas in clauses:\n",
        "    print(\"clauses: \", formulas.clauses)\n",
        "  positiveSolver.append_formula(formula=clauses)\n",
        "  print(\"proposition: \", int(-board[cell].proposition))\n",
        "  positiveSolver.add_clause([int(-board[cell].proposition)])\n",
        "\n",
        "  negativeSolver = Solver()\n",
        "  negativeSolver.append_formula(clauses, no_return=True)\n",
        "  negativeSolver.add_clause([int(board[cell].proposition)])\n",
        "\n",
        "  solution = positiveSolver.solve(assumptions=assumptions)\n",
        "  if solution == False:\n",
        "    print(\"ho trovato una cella safe\")\n",
        "    return cell\n",
        "  else:\n",
        "    print(\"ho trovato una mina\")\n",
        "    solution = negativeSolver.solve(assumptions = assumptions)\n",
        "    if solution == False:\n",
        "      createKnowledge(board[cell], board, knowledge)\n"
      ],
      "metadata": {
        "id": "9mhoVhjEAuV-"
      },
      "execution_count": 121,
      "outputs": []
    },
    {
      "cell_type": "code",
      "source": [
        "def createKnowledge(cell, board, knowledge):\n",
        "  #print(\"creo knowledge della cella in posizione: \", cell.row, \" \", cell.col)\n",
        "\n",
        "  currentKnowledge = []\n",
        "  if cell.value == -1:\n",
        "    currentKnowledge.append(cell.id)\n",
        "    knowledge.count.append(1)\n",
        "  else:\n",
        "    \n",
        "    value = cell.value\n",
        "    for i in range(3):\n",
        "      for j in range(3):\n",
        "        if (cell.row-1+i >= 0 and cell.row-1+i <= SIZE-1) and (cell.col-1+j >= 0 and cell.col-1+j <= SIZE-1):\n",
        "          if cell.id != board[codeId(cell.row-1+i,cell.col-1+j)].id:\n",
        "              currentKnowledge.append(board[codeId(cell.row-1+i,cell.col-1+j)].id)\n",
        "  \n",
        "    knowledge.count.append(cell.value)\n",
        "\n",
        "  knowledge.totalCells.append(currentKnowledge)\n",
        "  print(\"knowledge accumulata sino ad ora\")\n",
        "  for i,cells in enumerate(knowledge.totalCells):\n",
        "    print(cells, \" \", knowledge.count[i])\n",
        "  updateKnowledge(knowledge,board)\n",
        "\n",
        "  print(\"knowledge aggiornata\")\n",
        "  for i,cells in enumerate(knowledge.totalCells):\n",
        "    print(cells, \" \", knowledge.count[i])\n",
        "  # print(\"dopo l'aggiornamento: \")\n",
        "  # for i,cells in enumerate(knowledge.totalCells):\n",
        "  #   print(cells, \" \", knowledge.count[i])\n"
      ],
      "metadata": {
        "id": "POJFSdT9UtuU"
      },
      "execution_count": 93,
      "outputs": []
    },
    {
      "cell_type": "code",
      "source": [
        "def checkTrivialSafeCell(board, knowledge):\n",
        "  for i,cells in enumerate(knowledge.totalCells):\n",
        "    if knowledge.count[i] == 0:\n",
        "      for cell in cells:\n",
        "        if board[cell].selected == 0:\n",
        "          return cell\n",
        "  \n",
        "  return -1"
      ],
      "metadata": {
        "id": "7_85_Nx4-mty"
      },
      "execution_count": 40,
      "outputs": []
    },
    {
      "cell_type": "code",
      "source": [
        "def selectNextSafeCell(board, knowledge):\n",
        "  nextCell = checkTrivialSafeCell(board, knowledge)\n",
        "  #if there aren't any trivial safe cell use sat solver on clause\n",
        "  if nextCell == -1:\n",
        "    nextCell = findSafeCell(board, knowledge)\n",
        "  \n",
        "  if nextCell == -1:\n",
        "    result = nextCell\n",
        "  else:\n",
        "    result = board[nextCell]\n",
        "    \n",
        "  return result\n"
      ],
      "metadata": {
        "id": "Gj_TuZJD7gSt"
      },
      "execution_count": 55,
      "outputs": []
    },
    {
      "cell_type": "code",
      "source": [
        "def countMines(row,col,board, size):\n",
        "  counter = 0\n",
        "\n",
        "  for i in range(3):\n",
        "    for j in range(3):\n",
        "      if (row-1+i >= 0 and row-1+i <= size-1) and (col-1+j >= 0 and col-1+j <= size-1):\n",
        "        if board[row-1+i, col-1+j] == -1:\n",
        "          counter += 1\n",
        "        \n",
        "     \n",
        "  \n",
        "  return counter"
      ],
      "metadata": {
        "id": "f8AqwGfEyGxo"
      },
      "execution_count": 42,
      "outputs": []
    },
    {
      "cell_type": "code",
      "source": [
        "#function that, for each cell, counts the number of mines around it\n",
        "def fillBoard(board, size):\n",
        "  \n",
        "  for row in range(size):\n",
        "    for col in range(size):\n",
        "      if board[row,col] != -1:\n",
        "        n_mines = countMines(row, col, board, size)\n",
        "        board[row,col] = n_mines\n",
        "    \n",
        "      \n",
        "    \n",
        "  return board\n"
      ],
      "metadata": {
        "id": "rqy8GPCQNp84"
      },
      "execution_count": 43,
      "outputs": []
    },
    {
      "cell_type": "code",
      "source": [
        "\n",
        "def buildBoard(size, probability):\n",
        "  total_mines = 0\n",
        "  #board[i][j] = 0 --> no bomb\n",
        "  #board[i][j] = 1 --> bomb\n",
        "  print(\"inizializzo board di gioco\")\n",
        "  board = np.zeros((size,size))\n",
        "  for row in range(size):\n",
        "    for col in range(size):\n",
        "      randomNumber = random.uniform(0,1)\n",
        "      if randomNumber <= probability:\n",
        "        board[row,col] = -1\n",
        "        total_mines += 1\n",
        "      else:\n",
        "        board[row,col] = 0\n",
        "\n",
        "\n",
        "  board = fillBoard(board, size)\n",
        "  print(\"board di gioco inizializzata con \",total_mines, \" \",\"mine\")\n",
        "  return board\n",
        "      "
      ],
      "metadata": {
        "id": "C8ZoquJ7Fof6"
      },
      "execution_count": 44,
      "outputs": []
    },
    {
      "cell_type": "code",
      "source": [
        "def createCell(value, row, col):\n",
        "  cell = Cell()\n",
        "  cell.value = int(value)\n",
        "  if cell.value >= 0:\n",
        "    cell.safe = 1\n",
        "  else:\n",
        "    cell.safe = 0\n",
        "    \n",
        "  cell.selected = 0\n",
        "  cell.flag = 0\n",
        "  cell.row = row\n",
        "  cell.col = col\n",
        "  cell.proposition = int(codeId(row,col))\n",
        "  cell.id = cell.proposition\n",
        "  return cell"
      ],
      "metadata": {
        "id": "MOYsvsfKAhGj"
      },
      "execution_count": 117,
      "outputs": []
    },
    {
      "cell_type": "code",
      "source": [
        "def startGame(board, knowledge):\n",
        "  result = \"\"\n",
        "  firstCell = board[codeId(0,0)]\n",
        "  firstCell.selected = 1\n",
        "\n",
        "  if firstCell.value == -1:\n",
        "    result = \"lose\"\n",
        "  else:\n",
        "    createKnowledge(firstCell, board, knowledge)\n",
        "\n",
        " \n",
        "\n",
        "  while not(result == \"win\") and not(result == \"lose\"):\n",
        "    \n",
        "    cell = selectNextSafeCell(board, knowledge)\n",
        "    if cell == -1:\n",
        "      return \"could not find a safe cell\"\n",
        "\n",
        "    else:\n",
        "      print(\"ho selezionato la cella \", cell.id)\n",
        "      cell.selected = 1\n",
        "    \n",
        "      if cell.value == -1:\n",
        "        result = \"lose\"\n",
        "      else:\n",
        "        createKnowledge(cell, board, knowledge)\n",
        "\n",
        "\n",
        "  return result"
      ],
      "metadata": {
        "id": "fc8d0djV406l"
      },
      "execution_count": 46,
      "outputs": []
    },
    {
      "cell_type": "code",
      "source": [
        "class InternalRepresentation:\n",
        "  def __init__(self) -> None:\n",
        "    self.totalCells = []\n",
        "    self.count = []"
      ],
      "metadata": {
        "id": "Klb6U-jLlhHi"
      },
      "execution_count": 47,
      "outputs": []
    },
    {
      "cell_type": "code",
      "source": [
        "class Cell:\n",
        "  def __init__(self) -> None:\n",
        "    self.safe = 0\n",
        "    self.value = 0\n",
        "    self.proposition = 0\n",
        "    self.id = 0\n",
        "    self.selected = 0\n",
        "    self.row = 0\n",
        "    self.col = 0\n",
        "    self.flag = 0"
      ],
      "metadata": {
        "id": "o6LZuAXRlhrP"
      },
      "execution_count": 85,
      "outputs": []
    },
    {
      "cell_type": "code",
      "source": [
        "#build a 9x9 board\n",
        "SIZE = 9\n",
        "bomb_probability = 1/6\n",
        "board = buildBoard(SIZE, bomb_probability)\n",
        "print(board)"
      ],
      "metadata": {
        "id": "9EwPzHazldrG",
        "colab": {
          "base_uri": "https://localhost:8080/"
        },
        "outputId": "9259a7ff-1264-428a-ad4c-89cbae3a1ce5"
      },
      "execution_count": 73,
      "outputs": [
        {
          "output_type": "stream",
          "name": "stdout",
          "text": [
            "inizializzo board di gioco\n",
            "board di gioco inizializzata con  13   mine\n",
            "[[ 0.  0.  1.  1.  1.  0.  0.  1. -1.]\n",
            " [ 1.  2.  2. -1.  1.  0.  0.  1.  1.]\n",
            " [-1.  3. -1.  2.  1.  0.  0.  0.  0.]\n",
            " [-1.  3.  2.  2.  2.  1.  1.  1.  1.]\n",
            " [ 1.  1.  2. -1.  3. -1.  1.  1. -1.]\n",
            " [ 0.  0.  2. -1.  3.  2.  2.  2.  1.]\n",
            " [ 1.  2.  3.  2.  1.  1. -1.  2.  1.]\n",
            " [ 1. -1. -1.  1.  0.  1.  1.  2. -1.]\n",
            " [ 1.  2.  2.  1.  0.  0.  0.  1.  1.]]\n"
          ]
        }
      ]
    },
    {
      "cell_type": "code",
      "source": [
        "#start game from the up-left corner\n",
        "knowledge = InternalRepresentation();\n",
        "boardDictionary = buildCellDictionary(board)\n",
        "result = startGame(boardDictionary, knowledge)\n",
        "print(\"risultato: \", result);      "
      ],
      "metadata": {
        "colab": {
          "base_uri": "https://localhost:8080/",
          "height": 1000
        },
        "id": "zFypVh6jCALH",
        "outputId": "0c0d2291-5dac-4a53-e12e-caef1b769645"
      },
      "execution_count": 122,
      "outputs": [
        {
          "output_type": "stream",
          "name": "stdout",
          "text": [
            "knowledge accumulata sino ad ora\n",
            "[1, 9, 10]   0\n",
            "knowledge aggiornata\n",
            "[1, 9, 10]   0\n",
            "ho selezionato la cella  1\n",
            "knowledge accumulata sino ad ora\n",
            "[1, 9, 10]   0\n",
            "[0, 2, 9, 10, 11]   0\n",
            "knowledge aggiornata\n",
            "[1, 10, 9]   0\n",
            "[0, 2, 11]   0\n",
            "ho selezionato la cella  10\n",
            "knowledge accumulata sino ad ora\n",
            "[1, 10, 9]   0\n",
            "[0, 2, 11]   0\n",
            "[0, 1, 2, 9, 11, 18, 19, 20]   2\n",
            "knowledge aggiornata\n",
            "[1, 10, 9]   0\n",
            "[0, 2, 11]   0\n",
            "[18, 19, 20]   2\n",
            "ho selezionato la cella  9\n",
            "knowledge accumulata sino ad ora\n",
            "[1, 10, 9]   0\n",
            "[0, 2, 11]   0\n",
            "[18, 19, 20]   2\n",
            "[0, 1, 10, 18, 19]   1\n",
            "knowledge aggiornata\n",
            "[1, 10, 9]   0\n",
            "[0, 2, 11]   0\n",
            "[18, 19, 20]   2\n",
            "[18, 19]   1\n",
            "ho selezionato la cella  2\n",
            "knowledge accumulata sino ad ora\n",
            "[1, 10, 9]   0\n",
            "[0, 2, 11]   0\n",
            "[18, 19, 20]   2\n",
            "[18, 19]   1\n",
            "[1, 3, 10, 11, 12]   1\n",
            "knowledge aggiornata\n",
            "[1, 10, 9]   0\n",
            "[0, 2, 11]   0\n",
            "[18, 19, 20]   2\n",
            "[18, 19]   1\n",
            "[3, 12]   1\n",
            "ho selezionato la cella  11\n",
            "knowledge accumulata sino ad ora\n",
            "[1, 10, 9]   0\n",
            "[0, 2, 11]   0\n",
            "[18, 19, 20]   2\n",
            "[18, 19]   1\n",
            "[3, 12]   1\n",
            "[1, 2, 3, 10, 12, 19, 20, 21]   2\n",
            "knowledge aggiornata\n",
            "[1, 10, 9]   0\n",
            "[0, 2, 11]   0\n",
            "[18, 19, 20]   2\n",
            "[18, 19]   1\n",
            "[3, 12]   1\n",
            "[3, 12, 19, 20, 21]   2\n",
            "provo a selezionare la cella:  18\n",
            "clauses:  [[18, 21], [-21, 22], [19, -21], [19, 22], [20, -22], [-18, -19, -20]]\n",
            "clauses:  [[18, 19], [-18, -19]]\n",
            "clauses:  [[3, 12], [-3, -12]]\n",
            "clauses:  [[3, 22], [-22, 23], [12, -22, 24], [-24, 25], [19, -24, 26], [-26, 27], [20, -26], [12, 23], [19, -23, 25], [20, -25, 27], [21, -27], [-3, 28], [-28, 29], [-12, -28, 30], [-30, 31], [-19, -30], [-12, 29], [-29, 32], [-19, -29, 31], [-31, 33], [-20, -31], [-19, 32], [-20, -32, 33], [-21, -33]]\n"
          ]
        },
        {
          "output_type": "error",
          "ename": "TypeError",
          "evalue": "ignored",
          "traceback": [
            "\u001b[0;31m---------------------------------------------------------------------------\u001b[0m",
            "\u001b[0;31mTypeError\u001b[0m                                 Traceback (most recent call last)",
            "\u001b[0;32m<ipython-input-122-655fe0124806>\u001b[0m in \u001b[0;36m<module>\u001b[0;34m\u001b[0m\n\u001b[1;32m      2\u001b[0m \u001b[0mknowledge\u001b[0m \u001b[0;34m=\u001b[0m \u001b[0mInternalRepresentation\u001b[0m\u001b[0;34m(\u001b[0m\u001b[0;34m)\u001b[0m\u001b[0;34m;\u001b[0m\u001b[0;34m\u001b[0m\u001b[0;34m\u001b[0m\u001b[0m\n\u001b[1;32m      3\u001b[0m \u001b[0mboardDictionary\u001b[0m \u001b[0;34m=\u001b[0m \u001b[0mbuildCellDictionary\u001b[0m\u001b[0;34m(\u001b[0m\u001b[0mboard\u001b[0m\u001b[0;34m)\u001b[0m\u001b[0;34m\u001b[0m\u001b[0;34m\u001b[0m\u001b[0m\n\u001b[0;32m----> 4\u001b[0;31m \u001b[0mresult\u001b[0m \u001b[0;34m=\u001b[0m \u001b[0mstartGame\u001b[0m\u001b[0;34m(\u001b[0m\u001b[0mboardDictionary\u001b[0m\u001b[0;34m,\u001b[0m \u001b[0mknowledge\u001b[0m\u001b[0;34m)\u001b[0m\u001b[0;34m\u001b[0m\u001b[0;34m\u001b[0m\u001b[0m\n\u001b[0m\u001b[1;32m      5\u001b[0m \u001b[0mprint\u001b[0m\u001b[0;34m(\u001b[0m\u001b[0;34m\"risultato: \"\u001b[0m\u001b[0;34m,\u001b[0m \u001b[0mresult\u001b[0m\u001b[0;34m)\u001b[0m\u001b[0;34m;\u001b[0m\u001b[0;34m\u001b[0m\u001b[0;34m\u001b[0m\u001b[0m\n",
            "\u001b[0;32m<ipython-input-46-0e248c07f83f>\u001b[0m in \u001b[0;36mstartGame\u001b[0;34m(board, knowledge)\u001b[0m\n\u001b[1;32m     13\u001b[0m   \u001b[0;32mwhile\u001b[0m \u001b[0;32mnot\u001b[0m\u001b[0;34m(\u001b[0m\u001b[0mresult\u001b[0m \u001b[0;34m==\u001b[0m \u001b[0;34m\"win\"\u001b[0m\u001b[0;34m)\u001b[0m \u001b[0;32mand\u001b[0m \u001b[0;32mnot\u001b[0m\u001b[0;34m(\u001b[0m\u001b[0mresult\u001b[0m \u001b[0;34m==\u001b[0m \u001b[0;34m\"lose\"\u001b[0m\u001b[0;34m)\u001b[0m\u001b[0;34m:\u001b[0m\u001b[0;34m\u001b[0m\u001b[0;34m\u001b[0m\u001b[0m\n\u001b[1;32m     14\u001b[0m \u001b[0;34m\u001b[0m\u001b[0m\n\u001b[0;32m---> 15\u001b[0;31m     \u001b[0mcell\u001b[0m \u001b[0;34m=\u001b[0m \u001b[0mselectNextSafeCell\u001b[0m\u001b[0;34m(\u001b[0m\u001b[0mboard\u001b[0m\u001b[0;34m,\u001b[0m \u001b[0mknowledge\u001b[0m\u001b[0;34m)\u001b[0m\u001b[0;34m\u001b[0m\u001b[0;34m\u001b[0m\u001b[0m\n\u001b[0m\u001b[1;32m     16\u001b[0m     \u001b[0;32mif\u001b[0m \u001b[0mcell\u001b[0m \u001b[0;34m==\u001b[0m \u001b[0;34m-\u001b[0m\u001b[0;36m1\u001b[0m\u001b[0;34m:\u001b[0m\u001b[0;34m\u001b[0m\u001b[0;34m\u001b[0m\u001b[0m\n\u001b[1;32m     17\u001b[0m       \u001b[0;32mreturn\u001b[0m \u001b[0;34m\"could not find a safe cell\"\u001b[0m\u001b[0;34m\u001b[0m\u001b[0;34m\u001b[0m\u001b[0m\n",
            "\u001b[0;32m<ipython-input-55-2bc352b61cba>\u001b[0m in \u001b[0;36mselectNextSafeCell\u001b[0;34m(board, knowledge)\u001b[0m\n\u001b[1;32m      3\u001b[0m   \u001b[0;31m#if there aren't any trivial safe cell use sat solver on clause\u001b[0m\u001b[0;34m\u001b[0m\u001b[0;34m\u001b[0m\u001b[0;34m\u001b[0m\u001b[0m\n\u001b[1;32m      4\u001b[0m   \u001b[0;32mif\u001b[0m \u001b[0mnextCell\u001b[0m \u001b[0;34m==\u001b[0m \u001b[0;34m-\u001b[0m\u001b[0;36m1\u001b[0m\u001b[0;34m:\u001b[0m\u001b[0;34m\u001b[0m\u001b[0;34m\u001b[0m\u001b[0m\n\u001b[0;32m----> 5\u001b[0;31m     \u001b[0mnextCell\u001b[0m \u001b[0;34m=\u001b[0m \u001b[0mfindSafeCell\u001b[0m\u001b[0;34m(\u001b[0m\u001b[0mboard\u001b[0m\u001b[0;34m,\u001b[0m \u001b[0mknowledge\u001b[0m\u001b[0;34m)\u001b[0m\u001b[0;34m\u001b[0m\u001b[0;34m\u001b[0m\u001b[0m\n\u001b[0m\u001b[1;32m      6\u001b[0m \u001b[0;34m\u001b[0m\u001b[0m\n\u001b[1;32m      7\u001b[0m   \u001b[0;32mif\u001b[0m \u001b[0mnextCell\u001b[0m \u001b[0;34m==\u001b[0m \u001b[0;34m-\u001b[0m\u001b[0;36m1\u001b[0m\u001b[0;34m:\u001b[0m\u001b[0;34m\u001b[0m\u001b[0;34m\u001b[0m\u001b[0m\n",
            "\u001b[0;32m<ipython-input-121-6ce928066b21>\u001b[0m in \u001b[0;36mfindSafeCell\u001b[0;34m(board, knowledge)\u001b[0m\n\u001b[1;32m     13\u001b[0m   \u001b[0;32mfor\u001b[0m \u001b[0mformulas\u001b[0m \u001b[0;32min\u001b[0m \u001b[0mclauses\u001b[0m\u001b[0;34m:\u001b[0m\u001b[0;34m\u001b[0m\u001b[0;34m\u001b[0m\u001b[0m\n\u001b[1;32m     14\u001b[0m     \u001b[0mprint\u001b[0m\u001b[0;34m(\u001b[0m\u001b[0;34m\"clauses: \"\u001b[0m\u001b[0;34m,\u001b[0m \u001b[0mformulas\u001b[0m\u001b[0;34m.\u001b[0m\u001b[0mclauses\u001b[0m\u001b[0;34m)\u001b[0m\u001b[0;34m\u001b[0m\u001b[0;34m\u001b[0m\u001b[0m\n\u001b[0;32m---> 15\u001b[0;31m   \u001b[0mpositiveSolver\u001b[0m\u001b[0;34m.\u001b[0m\u001b[0mappend_formula\u001b[0m\u001b[0;34m(\u001b[0m\u001b[0mformula\u001b[0m\u001b[0;34m=\u001b[0m\u001b[0mclauses\u001b[0m\u001b[0;34m)\u001b[0m\u001b[0;34m\u001b[0m\u001b[0;34m\u001b[0m\u001b[0m\n\u001b[0m\u001b[1;32m     16\u001b[0m   \u001b[0mprint\u001b[0m\u001b[0;34m(\u001b[0m\u001b[0;34m\"proposition: \"\u001b[0m\u001b[0;34m,\u001b[0m \u001b[0mint\u001b[0m\u001b[0;34m(\u001b[0m\u001b[0;34m-\u001b[0m\u001b[0mboard\u001b[0m\u001b[0;34m[\u001b[0m\u001b[0mcell\u001b[0m\u001b[0;34m]\u001b[0m\u001b[0;34m.\u001b[0m\u001b[0mproposition\u001b[0m\u001b[0;34m)\u001b[0m\u001b[0;34m)\u001b[0m\u001b[0;34m\u001b[0m\u001b[0;34m\u001b[0m\u001b[0m\n\u001b[1;32m     17\u001b[0m   \u001b[0mpositiveSolver\u001b[0m\u001b[0;34m.\u001b[0m\u001b[0madd_clause\u001b[0m\u001b[0;34m(\u001b[0m\u001b[0;34m[\u001b[0m\u001b[0mint\u001b[0m\u001b[0;34m(\u001b[0m\u001b[0;34m-\u001b[0m\u001b[0mboard\u001b[0m\u001b[0;34m[\u001b[0m\u001b[0mcell\u001b[0m\u001b[0;34m]\u001b[0m\u001b[0;34m.\u001b[0m\u001b[0mproposition\u001b[0m\u001b[0;34m)\u001b[0m\u001b[0;34m]\u001b[0m\u001b[0;34m)\u001b[0m\u001b[0;34m\u001b[0m\u001b[0;34m\u001b[0m\u001b[0m\n",
            "\u001b[0;32m/usr/local/lib/python3.7/dist-packages/pysat/solvers.py\u001b[0m in \u001b[0;36mappend_formula\u001b[0;34m(self, formula, no_return)\u001b[0m\n\u001b[1;32m   1062\u001b[0m \u001b[0;34m\u001b[0m\u001b[0m\n\u001b[1;32m   1063\u001b[0m         \u001b[0;32mif\u001b[0m \u001b[0mself\u001b[0m\u001b[0;34m.\u001b[0m\u001b[0msolver\u001b[0m\u001b[0;34m:\u001b[0m\u001b[0;34m\u001b[0m\u001b[0;34m\u001b[0m\u001b[0m\n\u001b[0;32m-> 1064\u001b[0;31m             \u001b[0mres\u001b[0m \u001b[0;34m=\u001b[0m \u001b[0mself\u001b[0m\u001b[0;34m.\u001b[0m\u001b[0msolver\u001b[0m\u001b[0;34m.\u001b[0m\u001b[0mappend_formula\u001b[0m\u001b[0;34m(\u001b[0m\u001b[0mformula\u001b[0m\u001b[0;34m,\u001b[0m \u001b[0mno_return\u001b[0m\u001b[0;34m)\u001b[0m\u001b[0;34m\u001b[0m\u001b[0;34m\u001b[0m\u001b[0m\n\u001b[0m\u001b[1;32m   1065\u001b[0m             \u001b[0;32mif\u001b[0m \u001b[0;32mnot\u001b[0m \u001b[0mno_return\u001b[0m\u001b[0;34m:\u001b[0m\u001b[0;34m\u001b[0m\u001b[0;34m\u001b[0m\u001b[0m\n\u001b[1;32m   1066\u001b[0m                 \u001b[0;32mreturn\u001b[0m \u001b[0mres\u001b[0m\u001b[0;34m\u001b[0m\u001b[0;34m\u001b[0m\u001b[0m\n",
            "\u001b[0;32m/usr/local/lib/python3.7/dist-packages/pysat/solvers.py\u001b[0m in \u001b[0;36mappend_formula\u001b[0;34m(self, formula, no_return)\u001b[0m\n\u001b[1;32m   4767\u001b[0m \u001b[0;34m\u001b[0m\u001b[0m\n\u001b[1;32m   4768\u001b[0m             \u001b[0;32mfor\u001b[0m \u001b[0mclause\u001b[0m \u001b[0;32min\u001b[0m \u001b[0mformula\u001b[0m\u001b[0;34m:\u001b[0m\u001b[0;34m\u001b[0m\u001b[0;34m\u001b[0m\u001b[0m\n\u001b[0;32m-> 4769\u001b[0;31m                 \u001b[0mres\u001b[0m \u001b[0;34m=\u001b[0m \u001b[0mself\u001b[0m\u001b[0;34m.\u001b[0m\u001b[0madd_clause\u001b[0m\u001b[0;34m(\u001b[0m\u001b[0mclause\u001b[0m\u001b[0;34m,\u001b[0m \u001b[0mno_return\u001b[0m\u001b[0;34m)\u001b[0m\u001b[0;34m\u001b[0m\u001b[0;34m\u001b[0m\u001b[0m\n\u001b[0m\u001b[1;32m   4770\u001b[0m \u001b[0;34m\u001b[0m\u001b[0m\n\u001b[1;32m   4771\u001b[0m                 \u001b[0;32mif\u001b[0m \u001b[0;32mnot\u001b[0m \u001b[0mno_return\u001b[0m \u001b[0;32mand\u001b[0m \u001b[0mres\u001b[0m \u001b[0;34m==\u001b[0m \u001b[0;32mFalse\u001b[0m\u001b[0;34m:\u001b[0m\u001b[0;34m\u001b[0m\u001b[0;34m\u001b[0m\u001b[0m\n",
            "\u001b[0;32m/usr/local/lib/python3.7/dist-packages/pysat/solvers.py\u001b[0m in \u001b[0;36madd_clause\u001b[0;34m(self, clause, no_return)\u001b[0m\n\u001b[1;32m   4740\u001b[0m \u001b[0;34m\u001b[0m\u001b[0m\n\u001b[1;32m   4741\u001b[0m         \u001b[0;32mif\u001b[0m \u001b[0mself\u001b[0m\u001b[0;34m.\u001b[0m\u001b[0mminisat\u001b[0m\u001b[0;34m:\u001b[0m\u001b[0;34m\u001b[0m\u001b[0;34m\u001b[0m\u001b[0m\n\u001b[0;32m-> 4742\u001b[0;31m             \u001b[0mres\u001b[0m \u001b[0;34m=\u001b[0m \u001b[0mpysolvers\u001b[0m\u001b[0;34m.\u001b[0m\u001b[0mminisat22_add_cl\u001b[0m\u001b[0;34m(\u001b[0m\u001b[0mself\u001b[0m\u001b[0;34m.\u001b[0m\u001b[0mminisat\u001b[0m\u001b[0;34m,\u001b[0m \u001b[0mclause\u001b[0m\u001b[0;34m)\u001b[0m\u001b[0;34m\u001b[0m\u001b[0;34m\u001b[0m\u001b[0m\n\u001b[0m\u001b[1;32m   4743\u001b[0m \u001b[0;34m\u001b[0m\u001b[0m\n\u001b[1;32m   4744\u001b[0m             \u001b[0;32mif\u001b[0m \u001b[0mres\u001b[0m \u001b[0;34m==\u001b[0m \u001b[0;32mFalse\u001b[0m\u001b[0;34m:\u001b[0m\u001b[0;34m\u001b[0m\u001b[0;34m\u001b[0m\u001b[0m\n",
            "\u001b[0;31mTypeError\u001b[0m: integer expected"
          ]
        }
      ]
    }
  ]
}