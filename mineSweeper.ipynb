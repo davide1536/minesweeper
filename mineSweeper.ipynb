{
  "nbformat": 4,
  "nbformat_minor": 0,
  "metadata": {
    "colab": {
      "name": "mineSweeper.ipynb",
      "provenance": [],
      "collapsed_sections": [],
      "authorship_tag": "ABX9TyOE3ScEMDPIwMtmZVHKHs2m",
      "include_colab_link": true
    },
    "kernelspec": {
      "name": "python3",
      "display_name": "Python 3"
    },
    "language_info": {
      "name": "python"
    }
  },
  "cells": [
    {
      "cell_type": "markdown",
      "metadata": {
        "id": "view-in-github",
        "colab_type": "text"
      },
      "source": [
        "<a href=\"https://colab.research.google.com/github/davide1536/minesweeper/blob/main/mineSweeper.ipynb\" target=\"_parent\"><img src=\"https://colab.research.google.com/assets/colab-badge.svg\" alt=\"Open In Colab\"/></a>"
      ]
    },
    {
      "cell_type": "code",
      "source": [
        "import random \n",
        "import numpy as np\n",
        "internalRepresentation = []"
      ],
      "metadata": {
        "id": "Igrz4xITJiLE"
      },
      "execution_count": 6,
      "outputs": []
    },
    {
      "cell_type": "code",
      "source": [
        "def codeProposition(value1, value2):\n",
        "  pass"
      ],
      "metadata": {
        "id": "YQ3hswZcA3_I"
      },
      "execution_count": null,
      "outputs": []
    },
    {
      "cell_type": "code",
      "source": [
        "def findSafeCell(board):\n",
        "  pass"
      ],
      "metadata": {
        "id": "9mhoVhjEAuV-"
      },
      "execution_count": null,
      "outputs": []
    },
    {
      "cell_type": "code",
      "source": [
        "def createKnowledge(cell, board):\n",
        "  pass"
      ],
      "metadata": {
        "id": "POJFSdT9UtuU"
      },
      "execution_count": null,
      "outputs": []
    },
    {
      "cell_type": "code",
      "source": [
        "def checkTrivialSafeCell(board):\n",
        "  pass"
      ],
      "metadata": {
        "id": "7_85_Nx4-mty"
      },
      "execution_count": null,
      "outputs": []
    },
    {
      "cell_type": "code",
      "source": [
        "def selectNextSafeCell(board):\n",
        "  nextCell = checkTrivialSafeCell(board)\n",
        "  #if there aren't any trivial safe cell use sat solver on clause\n",
        "  if nextCell == 0:\n",
        "    nextCell = findSafeCell(board)\n",
        "    \n",
        "  return nextCell\n"
      ],
      "metadata": {
        "id": "Gj_TuZJD7gSt"
      },
      "execution_count": null,
      "outputs": []
    },
    {
      "cell_type": "code",
      "source": [
        "def countMines(row,col,board, size):\n",
        "  counter = 0\n",
        "\n",
        "  for i in range(3):\n",
        "    for j in range(3):\n",
        "      if (row-1+i >= 0 and row-1+i <= size-1) and (col-1+j >= 0 and col-1+j <= size-1):\n",
        "        if board[row-1+i, col-1+j] == -1:\n",
        "          counter += 1\n",
        "        \n",
        "     \n",
        "  \n",
        "  return counter"
      ],
      "metadata": {
        "id": "f8AqwGfEyGxo"
      },
      "execution_count": null,
      "outputs": []
    },
    {
      "cell_type": "code",
      "source": [
        "#function that, for each cell, counts the number of mines around it\n",
        "def fillBoard(board, size):\n",
        "  \n",
        "  for row in range(size):\n",
        "    for col in range(size):\n",
        "      if board[row,col] != -1:\n",
        "        n_mines = countMines(row, col, board, size)\n",
        "        board[row,col] = n_mines\n",
        "    \n",
        "      \n",
        "    \n",
        "  return board\n"
      ],
      "metadata": {
        "id": "rqy8GPCQNp84"
      },
      "execution_count": null,
      "outputs": []
    },
    {
      "cell_type": "code",
      "source": [
        "\n",
        "def buildBoard(size, probability):\n",
        "  total_mines = 0\n",
        "  #board[i][j] = 0 --> no bomb\n",
        "  #board[i][j] = 1 --> bomb\n",
        "  print(\"inizializzo board di gioco\")\n",
        "  board = np.zeros((size,size))\n",
        "  for row in range(size):\n",
        "    for col in range(size):\n",
        "      randomNumber = random.uniform(0,1)\n",
        "      if randomNumber <= probability:\n",
        "        board[row,col] = -1\n",
        "        total_mines += 1\n",
        "      else:\n",
        "        board[row,col] = 0\n",
        "\n",
        "\n",
        "  board = fillBoard(board, size)\n",
        "  print(\"board di gioco inizializzata con \",total_mines, \" \",\"mine\")\n",
        "  return board\n",
        "      "
      ],
      "metadata": {
        "id": "C8ZoquJ7Fof6"
      },
      "execution_count": null,
      "outputs": []
    },
    {
      "cell_type": "code",
      "execution_count": null,
      "metadata": {
        "colab": {
          "base_uri": "https://localhost:8080/"
        },
        "id": "LXz1On0Jwf1q",
        "outputId": "d288d967-7696-45e9-cbcb-b59ad732c416"
      },
      "outputs": [
        {
          "output_type": "stream",
          "name": "stdout",
          "text": [
            "inizializzo board di gioco\n",
            "board di gioco inizializzata con  14   mine\n",
            "[[ 0.  0.  0.  1. -1.  1.  1. -1. -1.]\n",
            " [ 0.  0.  0.  2.  2.  2.  1.  3. -1.]\n",
            " [ 0.  0.  0.  2. -1.  3.  1.  1.  1.]\n",
            " [ 1.  1.  1.  3. -1. -1.  1.  0.  0.]\n",
            " [ 2. -1.  1.  2. -1.  4.  2.  1.  0.]\n",
            " [-1.  2.  1.  1.  1.  2. -1.  2.  1.]\n",
            " [ 1.  1.  0.  0.  0.  1.  3. -1.  2.]\n",
            " [ 0.  1.  1.  1.  0.  0.  2. -1.  2.]\n",
            " [ 0.  1. -1.  1.  0.  0.  1.  1.  1.]]\n"
          ]
        }
      ],
      "source": [
        "#build a 9x9 board\n",
        "SIZE = 9\n",
        "bomb_probability = 1/6\n",
        "board = buildBoard(SIZE, bomb_probability)\n",
        "print(board)"
      ]
    },
    {
      "cell_type": "code",
      "source": [
        "class Cell:\n",
        "  def __init__(self) -> None:\n",
        "    self.safe = 0\n",
        "    self.value = 0\n",
        "    self.proposition = 0"
      ],
      "metadata": {
        "id": "bvz4IOk15clD"
      },
      "execution_count": 4,
      "outputs": []
    },
    {
      "cell_type": "code",
      "source": [
        "def createCell(value, row, col):\n",
        "  cell = Cell()\n",
        "  cell.value = value\n",
        "  cell.safe = 1\n",
        "  cell.proposition = codeProposition(row,col)"
      ],
      "metadata": {
        "id": "MOYsvsfKAhGj"
      },
      "execution_count": null,
      "outputs": []
    },
    {
      "cell_type": "code",
      "source": [
        "def startGame(board):\n",
        "  result = \"\"\n",
        "  firstCell = createCell(board[0,0], 0,0)\n",
        "  if firstCell.value == -1:\n",
        "    result = \"lose\"\n",
        "  else:\n",
        "    createKnowledge(firstCell, board)\n",
        "\n",
        "  while not(result == \"win\") and not(result == \"lose\"):\n",
        "    \n",
        "    cell = selectNextSafeCell(board)\n",
        "    if cell.value == -1:\n",
        "      result = \"lose\"\n",
        "    else:\n",
        "      createKnowledge(cell, board)\n",
        "\n",
        "\n",
        "  return result"
      ],
      "metadata": {
        "id": "fc8d0djV406l"
      },
      "execution_count": null,
      "outputs": []
    },
    {
      "cell_type": "code",
      "source": [
        "#start game from the up-left corner\n",
        "result = startGame(board)\n",
        "print(result)      "
      ],
      "metadata": {
        "colab": {
          "base_uri": "https://localhost:8080/"
        },
        "id": "zFypVh6jCALH",
        "outputId": "9dc5e9a6-c945-41bb-8886-0113ddd1cf26"
      },
      "execution_count": null,
      "outputs": [
        {
          "output_type": "stream",
          "name": "stdout",
          "text": [
            "lose\n"
          ]
        }
      ]
    }
  ]
}