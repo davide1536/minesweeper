{
  "nbformat": 4,
  "nbformat_minor": 0,
  "metadata": {
    "colab": {
      "name": "mineSweeper.ipynb",
      "provenance": [],
      "collapsed_sections": [],
      "authorship_tag": "ABX9TyPywfobPYrXYXXZVUpzHxFd",
      "include_colab_link": true
    },
    "kernelspec": {
      "name": "python3",
      "display_name": "Python 3"
    },
    "language_info": {
      "name": "python"
    }
  },
  "cells": [
    {
      "cell_type": "markdown",
      "metadata": {
        "id": "view-in-github",
        "colab_type": "text"
      },
      "source": [
        "<a href=\"https://colab.research.google.com/github/davide1536/minesweeper/blob/main/mineSweeper.ipynb\" target=\"_parent\"><img src=\"https://colab.research.google.com/assets/colab-badge.svg\" alt=\"Open In Colab\"/></a>"
      ]
    },
    {
      "cell_type": "code",
      "source": [
        "!pip install python-sat[pblib,aiger]"
      ],
      "metadata": {
        "colab": {
          "base_uri": "https://localhost:8080/"
        },
        "id": "afhFef0Z4oUn",
        "outputId": "245a2a9a-61be-4863-f105-9a812ff877e3"
      },
      "execution_count": null,
      "outputs": [
        {
          "output_type": "stream",
          "name": "stdout",
          "text": [
            "Looking in indexes: https://pypi.org/simple, https://us-python.pkg.dev/colab-wheels/public/simple/\n",
            "Requirement already satisfied: python-sat[aiger,pblib] in /usr/local/lib/python3.7/dist-packages (0.1.7.dev19)\n",
            "Requirement already satisfied: six in /usr/local/lib/python3.7/dist-packages (from python-sat[aiger,pblib]) (1.15.0)\n",
            "Requirement already satisfied: py-aiger-cnf>=2.0.0 in /usr/local/lib/python3.7/dist-packages (from python-sat[aiger,pblib]) (5.0.4)\n",
            "Requirement already satisfied: pypblib>=0.0.3 in /usr/local/lib/python3.7/dist-packages (from python-sat[aiger,pblib]) (0.0.4)\n",
            "Requirement already satisfied: bidict<0.22.0,>=0.21.0 in /usr/local/lib/python3.7/dist-packages (from py-aiger-cnf>=2.0.0->python-sat[aiger,pblib]) (0.21.4)\n",
            "Requirement already satisfied: py-aiger<7.0.0,>=6.0.0 in /usr/local/lib/python3.7/dist-packages (from py-aiger-cnf>=2.0.0->python-sat[aiger,pblib]) (6.1.24)\n",
            "Requirement already satisfied: funcy<2.0,>=1.12 in /usr/local/lib/python3.7/dist-packages (from py-aiger-cnf>=2.0.0->python-sat[aiger,pblib]) (1.17)\n",
            "Requirement already satisfied: toposort<2.0,>=1.5 in /usr/local/lib/python3.7/dist-packages (from py-aiger<7.0.0,>=6.0.0->py-aiger-cnf>=2.0.0->python-sat[aiger,pblib]) (1.7)\n",
            "Requirement already satisfied: parsimonious<0.9.0,>=0.8.1 in /usr/local/lib/python3.7/dist-packages (from py-aiger<7.0.0,>=6.0.0->py-aiger-cnf>=2.0.0->python-sat[aiger,pblib]) (0.8.1)\n",
            "Requirement already satisfied: sortedcontainers<3.0.0,>=2.3.0 in /usr/local/lib/python3.7/dist-packages (from py-aiger<7.0.0,>=6.0.0->py-aiger-cnf>=2.0.0->python-sat[aiger,pblib]) (2.4.0)\n",
            "Requirement already satisfied: attrs<22,>=21 in /usr/local/lib/python3.7/dist-packages (from py-aiger<7.0.0,>=6.0.0->py-aiger-cnf>=2.0.0->python-sat[aiger,pblib]) (21.4.0)\n",
            "Requirement already satisfied: pyrsistent<0.19.0,>=0.18.0 in /usr/local/lib/python3.7/dist-packages (from py-aiger<7.0.0,>=6.0.0->py-aiger-cnf>=2.0.0->python-sat[aiger,pblib]) (0.18.1)\n"
          ]
        }
      ]
    },
    {
      "cell_type": "code",
      "source": [
        "import random \n",
        "import numpy as np\n",
        "from pysat.solvers import Solver\n",
        "from pysat.card import *"
      ],
      "metadata": {
        "id": "Igrz4xITJiLE"
      },
      "execution_count": null,
      "outputs": []
    },
    {
      "cell_type": "code",
      "source": [
        "def checkForVictory(board, knowledge):\n",
        "  for row in range(SIZE):\n",
        "    for col in range(SIZE):\n",
        "      if board[codeId(row, col)].value == -1:\n",
        "        if board[codeId(row, col)].flag == 0 or board[codeId(row,col)].safe == 1:\n",
        "          print(\"trovata falsa mina\")\n",
        "          print(board[codeId(row, col)].id)\n",
        "          print(board[codeId(row, col)].flag)\n",
        "          print(board[codeId(row,col)].safe)\n",
        "          return False\n",
        "      else:\n",
        "        if board[codeId(row, col)].flag == 1 or board[codeId(row,col)].safe == 0:\n",
        "          print(\"trovata falsa safe\")\n",
        "          print(board[codeId(row, col)].id)\n",
        "          print(board[codeId(row, col)].flag)\n",
        "          print(board[codeId(row,col)].safe)\n",
        "          return False\n",
        "    return True"
      ],
      "metadata": {
        "id": "_wLMlk-Ua0hJ"
      },
      "execution_count": null,
      "outputs": []
    },
    {
      "cell_type": "code",
      "source": [
        "def intersection(lst1, lst2):\n",
        "  return list(set(lst1).intersection(lst2))"
      ],
      "metadata": {
        "id": "2-c1JDn0PKbj"
      },
      "execution_count": null,
      "outputs": []
    },
    {
      "cell_type": "code",
      "source": [
        "def difference(list1, list2):\n",
        "  return list(set(list1) - set(list2))"
      ],
      "metadata": {
        "id": "JQOHQa26xGhh"
      },
      "execution_count": null,
      "outputs": []
    },
    {
      "cell_type": "code",
      "source": [
        "def selectCell(board, knowledge, tried):\n",
        "  #print(\"cerco cella\")\n",
        "  for cells in knowledge.totalCells:\n",
        "    for cell in cells:\n",
        "      if board[cell].safe != 1 and board[cell].flag != 1 and not(cell in tried):\n",
        "        #print(tried)\n",
        "        #print(cell)\n",
        "        #print(board[cell].safe)\n",
        "        #print(board[cell].flag)\n",
        "        return [cell,3]\n",
        "\n",
        "  for row in range(SIZE):\n",
        "    for col in range(SIZE):\n",
        "      if not(board[codeId(row,col)].id in cellSelected) and not(board[codeId(row,col)].id in mineDiscovered):\n",
        "        return [board[codeId(row,col)].id, -3]"
      ],
      "metadata": {
        "id": "jYyWxRFTSl6a"
      },
      "execution_count": null,
      "outputs": []
    },
    {
      "cell_type": "code",
      "source": [
        "def createClauses(board, knowledge):\n",
        "  clauses = []\n",
        "  for i,cells in enumerate(knowledge.totalCells):\n",
        "    if knowledge.count[i] != 0 and knowledge.count[i] != len(cells) and len(cells) > 0:\n",
        "      #print(\"transformo in clausola celle: \", cells)\n",
        "      #print(\"count: \", knowledge.count[i])\n",
        "      cnfClause = CardEnc.equals(lits = cells, bound = int(knowledge.count[i]), top_id=100 + i*10, encoding=1)\n",
        "      clauses.append(cnfClause)\n",
        "\n",
        "  return clauses\n"
      ],
      "metadata": {
        "id": "ODJ4HWOsHylT"
      },
      "execution_count": null,
      "outputs": []
    },
    {
      "cell_type": "code",
      "source": [
        "def createAssumptions(board,knowledge):\n",
        "  assumptions = []\n",
        "  for cell in cellSelected:\n",
        "    assumptions.append(board[cell].proposition)\n",
        "\n",
        "  for mine in mineDiscovered:\n",
        "    assumptions.append(board[mine].proposition)\n",
        "\n",
        "  return assumptions"
      ],
      "metadata": {
        "id": "8IZ3OCOc_Nq1"
      },
      "execution_count": null,
      "outputs": []
    },
    {
      "cell_type": "code",
      "source": [
        "def removePositiveProposition(knowledge, currentCells, currentIndex, dictionary):\n",
        "  for i,cells in enumerate(knowledge.totalCells):\n",
        "    if i != currentIndex:\n",
        "      removeAndUpdateProposition(knowledge, currentCells, cells, dictionary, i)\n",
        "      #print(\"differenza: \", knowledge.totalCells[i])\n",
        "      if knowledge.totalCells[i] == []:\n",
        "        #print(\"tolgo liste vuote\")\n",
        "        knowledge.count[i] = -1\n",
        "        # del knowledge.totalCells[i]\n",
        "        # del knowledge.count[i]"
      ],
      "metadata": {
        "id": "9_oL4RVprtJs"
      },
      "execution_count": null,
      "outputs": []
    },
    {
      "cell_type": "code",
      "source": [
        "def removeNegativeProposition(knowledge, currentCells, currentIndex, dictionary):\n",
        "  for i,cells in enumerate(knowledge.totalCells):\n",
        "    if i != currentIndex:\n",
        "      numberOfCells = removeAndUpdateProposition(knowledge, currentCells, cells, dictionary,i)\n",
        "      #print(\"differenza: \", knowledge.totalCells[i])\n",
        "      #print(\"counter attuale: \",knowledge.count[i])\n",
        "      knowledge.count[i] -= numberOfCells\n",
        "      #print(\"counter aggiornato: \", knowledge.count[i])\n",
        "      if knowledge.totalCells[i] == []:\n",
        "       # print(\"tolgo lister vuote\")\n",
        "       knowledge.count[i] = -1\n",
        "        # del knowledge.totalCells[i]\n",
        "        # del knowledge.count[i]"
      ],
      "metadata": {
        "id": "Wnt33hl6NHnv"
      },
      "execution_count": null,
      "outputs": []
    },
    {
      "cell_type": "code",
      "source": [
        "def removeAndUpdateProposition(knowledge, currentCells, cells, dictionary, index):\n",
        "\n",
        "  #print(\"rimuovo proposizioni\")\n",
        "  intersect= intersection(cells, currentCells)\n",
        "  #print(\"intersezione tra \", cells, \" e \",currentCells, \" é \", intersect)\n",
        "  diff = difference(knowledge.totalCells[index], intersect)\n",
        "  knowledge.totalCells[index] = diff\n",
        "  return len(intersect)\n",
        " "
      ],
      "metadata": {
        "id": "6ccEgqcsL0Ew"
      },
      "execution_count": null,
      "outputs": []
    },
    {
      "cell_type": "code",
      "source": [
        "def clearKnowledge(knowledge, board):\n",
        "  for i, cells in enumerate(knowledge.totalCells):\n",
        "    if cells == [] and knowledge.count[i] == -1:\n",
        "      del knowledge.totalCells[i]\n",
        "      del knowledge.count[i]"
      ],
      "metadata": {
        "id": "DzY-JnBvVqjT"
      },
      "execution_count": null,
      "outputs": []
    },
    {
      "cell_type": "code",
      "source": [
        "def updateKnowledge(knowledge,board):\n",
        "\n",
        "  for i,cells in enumerate(knowledge.totalCells):\n",
        "      if knowledge.count[i] == 0:\n",
        "        #print(\"trovato celle con counter 0\")\n",
        "        for cell in cells:\n",
        "          # if not(cell in cellSelected):\n",
        "          #   cellSelected.append(cell)\n",
        "\n",
        "          if board[cell].proposition > 0:\n",
        "            board[cell].proposition = -board[cell].proposition\n",
        "        removePositiveProposition(knowledge, cells, i, board)\n",
        "\n",
        "  for i,cells in enumerate(knowledge.totalCells):  \n",
        "      if knowledge.count[i] == len(cells):\n",
        "        for cell in cells:\n",
        "          if not(cell in mineDiscovered):\n",
        "            mineDiscovered.append(cell)\n",
        "          board[cell].safe = 0\n",
        "          board[cell].flag = 1\n",
        "          \n",
        "        removeNegativeProposition(knowledge, cells, i,board)"
      ],
      "metadata": {
        "id": "-LixDlcebMfF"
      },
      "execution_count": null,
      "outputs": []
    },
    {
      "cell_type": "code",
      "source": [
        "def buildCellDictionary(board):\n",
        "  dictionary = {}\n",
        "  for row in range(SIZE):\n",
        "    for col in range(SIZE):\n",
        "      dictionary[codeId(row, col)] = createCell(board[row,col], row, col)\n",
        "  \n",
        "  return dictionary\n"
      ],
      "metadata": {
        "id": "swSXjJJEMl7H"
      },
      "execution_count": null,
      "outputs": []
    },
    {
      "cell_type": "code",
      "source": [
        "def codeId(value1, value2):\n",
        "  return value1 * SIZE + value2 + 1"
      ],
      "metadata": {
        "id": "YQ3hswZcA3_I"
      },
      "execution_count": null,
      "outputs": []
    },
    {
      "cell_type": "code",
      "source": [
        "def findSafeCell(board, knowledge):\n",
        "  print(\"cerco cella con inferenza\")\n",
        "  print(\"knowledge accumulata sino ad ora\")\n",
        "  for i,cells in enumerate(knowledge.totalCells):\n",
        "    print(cells, \" \", knowledge.count[i])\n",
        "  clauses = []\n",
        "  cellTried = []\n",
        "  assumptions = createAssumptions(board, knowledge)\n",
        "  print(\"assumption: \", assumptions)\n",
        "  print(\"trovate \", len(assumptions), \" assumptions\")\n",
        "  setOfFormulas = createClauses(board, knowledge)\n",
        "  negativeSolution = ''\n",
        "  positiveSolution = ''\n",
        "  cell = 0\n",
        "  while not(positiveSolution == False) and not(negativeSolution == False) and not(cell == None):\n",
        "\n",
        "\n",
        "  \n",
        "    cell,mode = selectCell(board,knowledge, cellTried)\n",
        "    if mode == -3:\n",
        "      return cell\n",
        "    if not(cell == None):\n",
        "      cellTried.append(cell)\n",
        "\n",
        "      \n",
        "      print(\"provo a selezionare la cella: \", cell)\n",
        "\n",
        "      #print(\"con proposizione: \", board[cell].proposition)\n",
        "\n",
        "\n",
        "      positiveSolver = Solver()\n",
        "      negativeSolver = Solver()\n",
        "      for formula in setOfFormulas:\n",
        "        #print(\"clauses: \", formula.clauses)\n",
        "        for clause in formula.clauses:\n",
        "          #print(\"clause: \",clause)\n",
        "          positiveSolver.add_clause(clause)\n",
        "          negativeSolver.add_clause(clause)\n",
        "\n",
        "\n",
        "      #positiveSolver.append_formula(formula=clauses)\n",
        "      #print(\"proposition: \", int(-board[cell].proposition))\n",
        "      negativeSolver.add_clause([int(board[cell].proposition)])\n",
        "\n",
        "      \n",
        "      #negativeSolver.append_formula(clauses, no_return=True)\n",
        "      positiveSolver.add_clause([-int(board[cell].proposition)])\n",
        "\n",
        "      negativeSolution = negativeSolver.solve(assumptions=assumptions)\n",
        "      positiveSolution = positiveSolver.solve(assumptions = assumptions)\n",
        "\n",
        "      print(negativeSolution)\n",
        "      print(positiveSolution)\n",
        "\n",
        "      negativeSolver.delete()\n",
        "      positiveSolver.delete()\n",
        "\n",
        "  if negativeSolution == False:\n",
        "    print(\"ho trovato una cella safe \",cell)\n",
        "    return cell\n",
        "  elif positiveSolution == False:\n",
        "    print(\"ho trovato una mina\")\n",
        "    createKnowledge(board[cell], board, knowledge)\n",
        "    return -2\n",
        "  else:\n",
        "    return -1\n"
      ],
      "metadata": {
        "id": "9mhoVhjEAuV-"
      },
      "execution_count": null,
      "outputs": []
    },
    {
      "cell_type": "code",
      "source": [
        "def createKnowledge(cell, board, knowledge):\n",
        "  #print(\"creo knowledge della cella in posizione: \", cell.row, \" \", cell.col)\n",
        "  currentKnowledge = []\n",
        "  if cell.value == -1:\n",
        "    currentKnowledge.append(cell.id)\n",
        "    knowledge.count.append(1)\n",
        "  else:\n",
        "\n",
        "    currentKnowledge.append(cell.id)\n",
        "    knowledge.totalCells.append(currentKnowledge)\n",
        "    knowledge.count.append(0)\n",
        "\n",
        "    currentKnowledge = []\n",
        "    \n",
        "    value = cell.value\n",
        "    for i in range(3):\n",
        "      for j in range(3):\n",
        "        if (cell.row-1+i >= 0 and cell.row-1+i <= SIZE-1) and (cell.col-1+j >= 0 and cell.col-1+j <= SIZE-1):\n",
        "          if cell.id != board[codeId(cell.row-1+i,cell.col-1+j)].id:\n",
        "              \n",
        "              currentKnowledge.append(board[codeId(cell.row-1+i,cell.col-1+j)].id)\n",
        "  \n",
        "    knowledge.count.append(value)\n",
        "\n",
        "  knowledge.totalCells.append(currentKnowledge)\n",
        "  # print(\"knowledge accumulata sino ad ora\")\n",
        "  # for i,cells in enumerate(knowledge.totalCells):\n",
        "  #   print(cells, \" \", knowledge.count[i])\n",
        "  updateKnowledge(knowledge,board)\n",
        "  clearKnowledge(knowledge, board)\n",
        "\n",
        "  # print(\"knowledge aggiornata\")\n",
        "  # for i,cells in enumerate(knowledge.totalCells):\n",
        "  #   print(cells, \" \", knowledge.count[i])\n",
        "  # print(\"dopo l'aggiornamento: \")\n",
        "  # for i,cells in enumerate(knowledge.totalCells):\n",
        "  #   print(cells, \" \", knowledge.count[i])\n"
      ],
      "metadata": {
        "id": "POJFSdT9UtuU"
      },
      "execution_count": null,
      "outputs": []
    },
    {
      "cell_type": "code",
      "source": [
        "def checkTrivialSafeCell(board, knowledge):\n",
        "  for i,cells in enumerate(knowledge.totalCells):\n",
        "    if knowledge.count[i] == 0:\n",
        "      \n",
        "      for cell in cells:\n",
        "        if board[cell].selected == 0:\n",
        "          return cell\n",
        "  \n",
        "  return -1"
      ],
      "metadata": {
        "id": "7_85_Nx4-mty"
      },
      "execution_count": null,
      "outputs": []
    },
    {
      "cell_type": "code",
      "source": [
        "def selectNextSafeCell(board, knowledge):\n",
        "  \n",
        "  nextCell = checkTrivialSafeCell(board, knowledge, )\n",
        "  \n",
        "  #if there aren't any trivial safe cell use sat solver on clause\n",
        " \n",
        "  if nextCell == -1:\n",
        "    nextCell = findSafeCell(board, knowledge)\n",
        "\n",
        "  #if i've found a mine thanks to the solver i'll try to reuse the trivial solver\n",
        "  if nextCell == -2:\n",
        "    nextCell = checkTrivialSafeCell(board, knowledge)\n",
        "\n",
        "\n",
        "  if nextCell == -1:\n",
        "    result = nextCell\n",
        "  else:\n",
        "    result = board[nextCell]\n",
        "    \n",
        "  return result\n"
      ],
      "metadata": {
        "id": "Gj_TuZJD7gSt"
      },
      "execution_count": null,
      "outputs": []
    },
    {
      "cell_type": "code",
      "source": [
        "def countMines(row,col,board, size):\n",
        "  counter = 0\n",
        "\n",
        "  for i in range(3):\n",
        "    for j in range(3):\n",
        "      if (row-1+i >= 0 and row-1+i <= size-1) and (col-1+j >= 0 and col-1+j <= size-1):\n",
        "        if board[row-1+i, col-1+j] == -1:\n",
        "          counter += 1\n",
        "        \n",
        "     \n",
        "  \n",
        "  return counter"
      ],
      "metadata": {
        "id": "f8AqwGfEyGxo"
      },
      "execution_count": null,
      "outputs": []
    },
    {
      "cell_type": "code",
      "source": [
        "#function that, for each cell, counts the number of mines around it\n",
        "def fillBoard(board, size):\n",
        "  \n",
        "  for row in range(size):\n",
        "    for col in range(size):\n",
        "      if board[row,col] != -1:\n",
        "        n_mines = countMines(row, col, board, size)\n",
        "        board[row,col] = n_mines\n",
        "    \n",
        "      \n",
        "    \n",
        "  return board\n"
      ],
      "metadata": {
        "id": "rqy8GPCQNp84"
      },
      "execution_count": null,
      "outputs": []
    },
    {
      "cell_type": "code",
      "source": [
        "\n",
        "def buildBoard(size, probability):\n",
        "  total_mines = 0\n",
        "  #board[i][j] = 0 --> no bomb\n",
        "  #board[i][j] = 1 --> bomb\n",
        "  print(\"inizializzo board di gioco\")\n",
        "  board = np.zeros((size,size))\n",
        "  for row in range(size):\n",
        "    for col in range(size):\n",
        "      randomNumber = random.uniform(0,1)\n",
        "      if randomNumber <= probability:\n",
        "        board[row,col] = -1\n",
        "        total_mines += 1\n",
        "      else:\n",
        "        board[row,col] = 0\n",
        "\n",
        "\n",
        "  board = fillBoard(board, size)\n",
        "  print(\"board di gioco inizializzata con \",total_mines, \" \",\"mine\")\n",
        "  return board\n",
        "      "
      ],
      "metadata": {
        "id": "C8ZoquJ7Fof6"
      },
      "execution_count": null,
      "outputs": []
    },
    {
      "cell_type": "code",
      "source": [
        "def createCell(value, row, col):\n",
        "  cell = Cell()\n",
        "  cell.value = int(value)\n",
        "  \n",
        "  cell.safe = 0\n",
        "    \n",
        "  cell.selected = 0\n",
        "  cell.flag = 0\n",
        "  cell.row = row\n",
        "  cell.col = col\n",
        "  cell.proposition = int(codeId(row,col))\n",
        "  cell.id = int(codeId(row,col))\n",
        "  return cell"
      ],
      "metadata": {
        "id": "MOYsvsfKAhGj"
      },
      "execution_count": null,
      "outputs": []
    },
    {
      "cell_type": "code",
      "source": [
        "def startGame(board, knowledge):\n",
        "  result = \"\"\n",
        "  firstCell = board[codeId(0,0)]\n",
        "  firstCell.selected = 1\n",
        "  cellSelected.append(firstCell.id)\n",
        "\n",
        "  if firstCell.value == -1:\n",
        "    result = \"lose\"\n",
        "  else:\n",
        "    createKnowledge(firstCell, board, knowledge)\n",
        "\n",
        " \n",
        "\n",
        "  while not(result == \"win\") and not(result == \"lose\"):\n",
        "    \n",
        "    cell = selectNextSafeCell(board, knowledge)\n",
        "    if cell == -1:\n",
        "      return \"could not find a safe cell\"\n",
        "    \n",
        "    elif cell == 1:\n",
        "      result = \"win\"\n",
        "\n",
        "    else:\n",
        "      print(\"ho selezionato la cella \", cell.id)\n",
        "      cell.selected = 1\n",
        "      cell.safe = 1\n",
        "      if not(cell.id in cellSelected):\n",
        "        cellSelected.append(cell.id)\n",
        "    \n",
        "      if len(cellSelected) + len(mineDiscovered) == SIZE * SIZE:\n",
        "        victory = checkForVictory(board, knowledge)\n",
        "        if victory:\n",
        "          result = \"win\"\n",
        "        else:\n",
        "          return \"An error occured\"\n",
        "      if cell.value == -1:\n",
        "        result = \"lose\"\n",
        "      else:\n",
        "        createKnowledge(cell, board, knowledge)\n",
        "\n",
        "\n",
        "  return result"
      ],
      "metadata": {
        "id": "fc8d0djV406l"
      },
      "execution_count": null,
      "outputs": []
    },
    {
      "cell_type": "code",
      "source": [
        "class InternalRepresentation:\n",
        "  def __init__(self) -> None:\n",
        "    self.totalCells = []\n",
        "    self.count = []"
      ],
      "metadata": {
        "id": "Klb6U-jLlhHi"
      },
      "execution_count": null,
      "outputs": []
    },
    {
      "cell_type": "code",
      "source": [
        "class Cell:\n",
        "  def __init__(self) -> None:\n",
        "    self.safe = 0\n",
        "    self.value = 0\n",
        "    self.proposition = 0\n",
        "    self.id = 0\n",
        "    self.selected = 0\n",
        "    self.row = 0\n",
        "    self.col = 0\n",
        "    self.flag = 0"
      ],
      "metadata": {
        "id": "o6LZuAXRlhrP"
      },
      "execution_count": null,
      "outputs": []
    },
    {
      "cell_type": "code",
      "source": [
        "#build a 9x9 board\n",
        "SIZE = 9\n",
        "bomb_probability = 1/6\n",
        "board = buildBoard(SIZE, bomb_probability)\n",
        "print(board)"
      ],
      "metadata": {
        "id": "9EwPzHazldrG",
        "colab": {
          "base_uri": "https://localhost:8080/"
        },
        "outputId": "27e1176a-1690-4904-9c6b-5f6033726948"
      },
      "execution_count": null,
      "outputs": [
        {
          "output_type": "stream",
          "name": "stdout",
          "text": [
            "inizializzo board di gioco\n",
            "board di gioco inizializzata con  12   mine\n",
            "[[ 1.  2.  3. -1. -1.  3. -1.  2. -1.]\n",
            " [ 1. -1. -1.  3.  3. -1.  2.  2.  1.]\n",
            " [ 1.  2.  2.  1.  1.  1.  1.  0.  0.]\n",
            " [ 0.  0.  1.  1.  1.  0.  0.  0.  0.]\n",
            " [ 1.  1.  1. -1.  1.  0.  0.  1.  1.]\n",
            " [-1.  1.  2.  2.  2.  0.  0.  1. -1.]\n",
            " [ 1.  1.  1. -1.  1.  0.  0.  1.  1.]\n",
            " [ 1.  1.  1.  1.  1.  0.  0.  0.  0.]\n",
            " [-1.  1.  0.  0.  0.  0.  0.  0.  0.]]\n"
          ]
        }
      ]
    },
    {
      "cell_type": "code",
      "source": [
        "#start game from the up-left corner\n",
        "knowledge = InternalRepresentation();\n",
        "cellSelected = []\n",
        "mineDiscovered = []\n",
        "boardDictionary = buildCellDictionary(board)\n",
        "result = startGame(boardDictionary, knowledge)\n",
        "print(\"risultato: \", result);      "
      ],
      "metadata": {
        "colab": {
          "base_uri": "https://localhost:8080/",
          "height": 1000
        },
        "id": "zFypVh6jCALH",
        "outputId": "ba81dd8e-7190-4802-e698-6d54509db4b8"
      },
      "execution_count": null,
      "outputs": [
        {
          "output_type": "stream",
          "name": "stdout",
          "text": [
            "cerco cella con inferenza\n",
            "knowledge accumulata sino ad ora\n",
            "[1]   0\n",
            "[10, 2, 11]   1\n",
            "assumption:  [-1]\n",
            "trovate  1  assumptions\n",
            "provo a selezionare la cella:  10\n",
            "True\n",
            "True\n",
            "provo a selezionare la cella:  2\n",
            "True\n",
            "True\n",
            "provo a selezionare la cella:  11\n",
            "True\n",
            "True\n",
            "ho selezionato la cella  2\n",
            "cerco cella con inferenza\n",
            "knowledge accumulata sino ad ora\n",
            "[1]   0\n",
            "[10, 11]   1\n",
            "[2]   0\n",
            "[3, 10, 11, 12]   2\n",
            "assumption:  [-1, -2]\n",
            "trovate  2  assumptions\n",
            "provo a selezionare la cella:  10\n",
            "True\n",
            "True\n",
            "provo a selezionare la cella:  11\n",
            "True\n",
            "True\n",
            "provo a selezionare la cella:  3\n",
            "True\n",
            "True\n",
            "provo a selezionare la cella:  12\n",
            "True\n",
            "True\n",
            "ho selezionato la cella  3\n",
            "cerco cella con inferenza\n",
            "knowledge accumulata sino ad ora\n",
            "[1]   0\n",
            "[10, 11]   1\n",
            "[2]   0\n",
            "[10, 11, 12]   2\n",
            "[3]   0\n",
            "[12, 11, 4, 13]   3\n",
            "assumption:  [-1, -2, -3]\n",
            "trovate  3  assumptions\n",
            "provo a selezionare la cella:  10\n",
            "True\n",
            "True\n",
            "provo a selezionare la cella:  11\n",
            "True\n",
            "True\n",
            "provo a selezionare la cella:  12\n",
            "True\n",
            "False\n",
            "ho trovato una mina\n",
            "cerco cella con inferenza\n",
            "knowledge accumulata sino ad ora\n",
            "[1]   0\n",
            "[10, 11]   1\n",
            "[2]   0\n",
            "[10, 11]   1\n",
            "[3]   0\n",
            "[11, 4, 13]   2\n",
            "[12]   1\n",
            "assumption:  [-1, -2, -3, 12]\n",
            "trovate  4  assumptions\n",
            "provo a selezionare la cella:  10\n",
            "True\n",
            "True\n",
            "provo a selezionare la cella:  11\n",
            "True\n",
            "True\n",
            "provo a selezionare la cella:  4\n",
            "True\n",
            "True\n",
            "provo a selezionare la cella:  13\n",
            "True\n",
            "True\n"
          ]
        },
        {
          "output_type": "error",
          "ename": "AttributeError",
          "evalue": "ignored",
          "traceback": [
            "\u001b[0;31m---------------------------------------------------------------------------\u001b[0m",
            "\u001b[0;31mAttributeError\u001b[0m                            Traceback (most recent call last)",
            "\u001b[0;32m<ipython-input-270-2bd187b85e53>\u001b[0m in \u001b[0;36m<module>\u001b[0;34m\u001b[0m\n\u001b[1;32m      4\u001b[0m \u001b[0mmineDiscovered\u001b[0m \u001b[0;34m=\u001b[0m \u001b[0;34m[\u001b[0m\u001b[0;34m]\u001b[0m\u001b[0;34m\u001b[0m\u001b[0;34m\u001b[0m\u001b[0m\n\u001b[1;32m      5\u001b[0m \u001b[0mboardDictionary\u001b[0m \u001b[0;34m=\u001b[0m \u001b[0mbuildCellDictionary\u001b[0m\u001b[0;34m(\u001b[0m\u001b[0mboard\u001b[0m\u001b[0;34m)\u001b[0m\u001b[0;34m\u001b[0m\u001b[0;34m\u001b[0m\u001b[0m\n\u001b[0;32m----> 6\u001b[0;31m \u001b[0mresult\u001b[0m \u001b[0;34m=\u001b[0m \u001b[0mstartGame\u001b[0m\u001b[0;34m(\u001b[0m\u001b[0mboardDictionary\u001b[0m\u001b[0;34m,\u001b[0m \u001b[0mknowledge\u001b[0m\u001b[0;34m)\u001b[0m\u001b[0;34m\u001b[0m\u001b[0;34m\u001b[0m\u001b[0m\n\u001b[0m\u001b[1;32m      7\u001b[0m \u001b[0mprint\u001b[0m\u001b[0;34m(\u001b[0m\u001b[0;34m\"risultato: \"\u001b[0m\u001b[0;34m,\u001b[0m \u001b[0mresult\u001b[0m\u001b[0;34m)\u001b[0m\u001b[0;34m;\u001b[0m\u001b[0;34m\u001b[0m\u001b[0;34m\u001b[0m\u001b[0m\n",
            "\u001b[0;32m<ipython-input-259-a9105f0a1550>\u001b[0m in \u001b[0;36mstartGame\u001b[0;34m(board, knowledge)\u001b[0m\n\u001b[1;32m     22\u001b[0m \u001b[0;34m\u001b[0m\u001b[0m\n\u001b[1;32m     23\u001b[0m     \u001b[0;32melse\u001b[0m\u001b[0;34m:\u001b[0m\u001b[0;34m\u001b[0m\u001b[0;34m\u001b[0m\u001b[0m\n\u001b[0;32m---> 24\u001b[0;31m       \u001b[0mprint\u001b[0m\u001b[0;34m(\u001b[0m\u001b[0;34m\"ho selezionato la cella \"\u001b[0m\u001b[0;34m,\u001b[0m \u001b[0mcell\u001b[0m\u001b[0;34m.\u001b[0m\u001b[0mid\u001b[0m\u001b[0;34m)\u001b[0m\u001b[0;34m\u001b[0m\u001b[0;34m\u001b[0m\u001b[0m\n\u001b[0m\u001b[1;32m     25\u001b[0m       \u001b[0mcell\u001b[0m\u001b[0;34m.\u001b[0m\u001b[0mselected\u001b[0m \u001b[0;34m=\u001b[0m \u001b[0;36m1\u001b[0m\u001b[0;34m\u001b[0m\u001b[0;34m\u001b[0m\u001b[0m\n\u001b[1;32m     26\u001b[0m       \u001b[0mcell\u001b[0m\u001b[0;34m.\u001b[0m\u001b[0msafe\u001b[0m \u001b[0;34m=\u001b[0m \u001b[0;36m1\u001b[0m\u001b[0;34m\u001b[0m\u001b[0;34m\u001b[0m\u001b[0m\n",
            "\u001b[0;31mAttributeError\u001b[0m: 'int' object has no attribute 'id'"
          ]
        }
      ]
    }
  ]
}