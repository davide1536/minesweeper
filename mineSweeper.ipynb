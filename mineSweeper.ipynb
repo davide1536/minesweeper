{
  "nbformat": 4,
  "nbformat_minor": 0,
  "metadata": {
    "colab": {
      "name": "mineSweeper.ipynb",
      "provenance": [],
      "collapsed_sections": [],
      "authorship_tag": "ABX9TyN/G0jSASHckzhiNZnnG2A5",
      "include_colab_link": true
    },
    "kernelspec": {
      "name": "python3",
      "display_name": "Python 3"
    },
    "language_info": {
      "name": "python"
    }
  },
  "cells": [
    {
      "cell_type": "markdown",
      "metadata": {
        "id": "view-in-github",
        "colab_type": "text"
      },
      "source": [
        "<a href=\"https://colab.research.google.com/github/davide1536/minesweeper/blob/main/mineSweeper.ipynb\" target=\"_parent\"><img src=\"https://colab.research.google.com/assets/colab-badge.svg\" alt=\"Open In Colab\"/></a>"
      ]
    },
    {
      "cell_type": "code",
      "source": [
        "!pip install python-sat[pblib,aiger]"
      ],
      "metadata": {
        "colab": {
          "base_uri": "https://localhost:8080/"
        },
        "id": "afhFef0Z4oUn",
        "outputId": "1a304fb8-2c1d-4fa6-9b5a-8ed20a07ed26"
      },
      "execution_count": 1,
      "outputs": [
        {
          "output_type": "stream",
          "name": "stdout",
          "text": [
            "Looking in indexes: https://pypi.org/simple, https://us-python.pkg.dev/colab-wheels/public/simple/\n",
            "Collecting python-sat[aiger,pblib]\n",
            "  Downloading python_sat-0.1.7.dev19-cp37-cp37m-manylinux2010_x86_64.whl (1.8 MB)\n",
            "\u001b[K     |████████████████████████████████| 1.8 MB 5.1 MB/s \n",
            "\u001b[?25hRequirement already satisfied: six in /usr/local/lib/python3.7/dist-packages (from python-sat[aiger,pblib]) (1.15.0)\n",
            "Collecting pypblib>=0.0.3\n",
            "  Downloading pypblib-0.0.4-cp37-cp37m-manylinux2014_x86_64.whl (3.4 MB)\n",
            "\u001b[K     |████████████████████████████████| 3.4 MB 37.7 MB/s \n",
            "\u001b[?25hCollecting py-aiger-cnf>=2.0.0\n",
            "  Downloading py_aiger_cnf-5.0.4-py3-none-any.whl (5.2 kB)\n",
            "Collecting py-aiger<7.0.0,>=6.0.0\n",
            "  Downloading py_aiger-6.1.24-py3-none-any.whl (18 kB)\n",
            "Collecting funcy<2.0,>=1.12\n",
            "  Downloading funcy-1.17-py2.py3-none-any.whl (33 kB)\n",
            "Collecting bidict<0.22.0,>=0.21.0\n",
            "  Downloading bidict-0.21.4-py3-none-any.whl (36 kB)\n",
            "Collecting attrs<22,>=21\n",
            "  Downloading attrs-21.4.0-py2.py3-none-any.whl (60 kB)\n",
            "\u001b[K     |████████████████████████████████| 60 kB 6.5 MB/s \n",
            "\u001b[?25hRequirement already satisfied: sortedcontainers<3.0.0,>=2.3.0 in /usr/local/lib/python3.7/dist-packages (from py-aiger<7.0.0,>=6.0.0->py-aiger-cnf>=2.0.0->python-sat[aiger,pblib]) (2.4.0)\n",
            "Collecting toposort<2.0,>=1.5\n",
            "  Downloading toposort-1.7-py2.py3-none-any.whl (9.0 kB)\n",
            "Requirement already satisfied: pyrsistent<0.19.0,>=0.18.0 in /usr/local/lib/python3.7/dist-packages (from py-aiger<7.0.0,>=6.0.0->py-aiger-cnf>=2.0.0->python-sat[aiger,pblib]) (0.18.1)\n",
            "Collecting parsimonious<0.9.0,>=0.8.1\n",
            "  Downloading parsimonious-0.8.1.tar.gz (45 kB)\n",
            "\u001b[K     |████████████████████████████████| 45 kB 2.9 MB/s \n",
            "\u001b[?25hBuilding wheels for collected packages: parsimonious\n",
            "  Building wheel for parsimonious (setup.py) ... \u001b[?25l\u001b[?25hdone\n",
            "  Created wheel for parsimonious: filename=parsimonious-0.8.1-py3-none-any.whl size=42723 sha256=3366eec6a5648bf7742a362f1549e3c55b18755a0e883de7a382c24105dd2916\n",
            "  Stored in directory: /root/.cache/pip/wheels/88/5d/ba/f27d8af07306b65ee44f9d3f9cadea1db749a421a6db8a99bf\n",
            "Successfully built parsimonious\n",
            "Installing collected packages: toposort, parsimonious, funcy, bidict, attrs, py-aiger, python-sat, pypblib, py-aiger-cnf\n",
            "  Attempting uninstall: attrs\n",
            "    Found existing installation: attrs 22.1.0\n",
            "    Uninstalling attrs-22.1.0:\n",
            "      Successfully uninstalled attrs-22.1.0\n",
            "Successfully installed attrs-21.4.0 bidict-0.21.4 funcy-1.17 parsimonious-0.8.1 py-aiger-6.1.24 py-aiger-cnf-5.0.4 pypblib-0.0.4 python-sat-0.1.7.dev19 toposort-1.7\n"
          ]
        }
      ]
    },
    {
      "cell_type": "code",
      "source": [
        "import random \n",
        "import numpy as np\n",
        "from pysat.solvers import Solver\n",
        "from pysat.card import *"
      ],
      "metadata": {
        "id": "Igrz4xITJiLE"
      },
      "execution_count": 2,
      "outputs": []
    },
    {
      "cell_type": "code",
      "source": [
        "def checkForVictory(board, knowledge):\n",
        "  for row in range(SIZE):\n",
        "    for col in range(SIZE):\n",
        "      if board[codeId(row, col)].value == -1:\n",
        "        if board[codeId(row, col)].flag == 0 or board[codeId(row,col)].safe == 1:\n",
        "          print(\"trovata falsa mina\")\n",
        "          print(board[codeId(row, col)].id)\n",
        "          print(board[codeId(row, col)].flag)\n",
        "          print(board[codeId(row,col)].safe)\n",
        "          return False\n",
        "      else:\n",
        "        if board[codeId(row, col)].flag == 1 or board[codeId(row,col)].safe == 0:\n",
        "          print(\"trovata falsa safe\")\n",
        "          print(board[codeId(row, col)].id)\n",
        "          print(board[codeId(row, col)].flag)\n",
        "          print(board[codeId(row,col)].safe)\n",
        "          return False\n",
        "    return True"
      ],
      "metadata": {
        "id": "_wLMlk-Ua0hJ"
      },
      "execution_count": 3,
      "outputs": []
    },
    {
      "cell_type": "code",
      "source": [
        "def intersection(lst1, lst2):\n",
        "  return list(set(lst1).intersection(lst2))"
      ],
      "metadata": {
        "id": "2-c1JDn0PKbj"
      },
      "execution_count": 4,
      "outputs": []
    },
    {
      "cell_type": "code",
      "source": [
        "def difference(list1, list2):\n",
        "  return list(set(list1) - set(list2))"
      ],
      "metadata": {
        "id": "JQOHQa26xGhh"
      },
      "execution_count": 5,
      "outputs": []
    },
    {
      "cell_type": "code",
      "source": [
        "def selectAlternativeCell(board, knowledge, tried):\n",
        "  for cell in tried:\n",
        "    if board[cell].selected == 0:\n",
        "      return cell\n",
        "  for row in range(SIZE):\n",
        "      for col in range(SIZE):\n",
        "        if not(board[codeId(row,col)].id in cellSelected) and not(board[codeId(row,col)].id in mineDiscovered):\n",
        "          return board[codeId(row,col)].id"
      ],
      "metadata": {
        "id": "90vmeq4No_sS"
      },
      "execution_count": 97,
      "outputs": []
    },
    {
      "cell_type": "code",
      "source": [
        "def selectCellInKnowledge(board, knowledge, tried):\n",
        "  #print(\"cerco cella\")\n",
        "  for cells in knowledge.totalCells:\n",
        "    for cell in cells:\n",
        "      if board[cell].safe != 1 and board[cell].flag != 1 and not(cell in tried):\n",
        "        #print(tried)\n",
        "        #print(cell)\n",
        "        #print(board[cell].safe)\n",
        "        #print(board[cell].flag)\n",
        "        return cell\n",
        "\n",
        "  "
      ],
      "metadata": {
        "id": "jYyWxRFTSl6a"
      },
      "execution_count": 58,
      "outputs": []
    },
    {
      "cell_type": "code",
      "source": [
        "def createClauses(board, knowledge):\n",
        "  clauses = []\n",
        "  for i,cells in enumerate(knowledge.totalCells):\n",
        "    if knowledge.count[i] != 0 and knowledge.count[i] != len(cells) and len(cells) > 0:\n",
        "      #print(\"transformo in clausola celle: \", cells)\n",
        "      #print(\"count: \", knowledge.count[i])\n",
        "      cnfClause = CardEnc.equals(lits = cells, bound = int(knowledge.count[i]), top_id=100 + i*100, encoding=1)\n",
        "      clauses.append(cnfClause)\n",
        "\n",
        "  return clauses\n"
      ],
      "metadata": {
        "id": "ODJ4HWOsHylT"
      },
      "execution_count": 84,
      "outputs": []
    },
    {
      "cell_type": "code",
      "source": [
        "def createAssumptions(board,knowledge):\n",
        "  assumptions = []\n",
        "  for cell in cellSelected:\n",
        "    assumptions.append(board[cell].proposition)\n",
        "\n",
        "  for mine in mineDiscovered:\n",
        "    assumptions.append(board[mine].proposition)\n",
        "\n",
        "  return assumptions"
      ],
      "metadata": {
        "id": "8IZ3OCOc_Nq1"
      },
      "execution_count": 8,
      "outputs": []
    },
    {
      "cell_type": "code",
      "source": [
        "def removePositiveProposition(knowledge, currentCells, currentIndex, dictionary):\n",
        "  for i,cells in enumerate(knowledge.totalCells):\n",
        "    if i != currentIndex:\n",
        "      removeAndUpdateProposition(knowledge, currentCells, cells, dictionary, i)\n",
        "      #print(\"differenza: \", knowledge.totalCells[i])\n",
        "      if knowledge.totalCells[i] == []:\n",
        "        #print(\"tolgo liste vuote\")\n",
        "        knowledge.count[i] = -1\n",
        "        # del knowledge.totalCells[i]\n",
        "        # del knowledge.count[i]"
      ],
      "metadata": {
        "id": "9_oL4RVprtJs"
      },
      "execution_count": 9,
      "outputs": []
    },
    {
      "cell_type": "code",
      "source": [
        "def removeNegativeProposition(knowledge, currentCells, currentIndex, dictionary):\n",
        "  for i,cells in enumerate(knowledge.totalCells):\n",
        "    if i != currentIndex:\n",
        "      numberOfCells = removeAndUpdateProposition(knowledge, currentCells, cells, dictionary,i)\n",
        "      #print(\"differenza: \", knowledge.totalCells[i])\n",
        "      #print(\"counter attuale: \",knowledge.count[i])\n",
        "      knowledge.count[i] -= numberOfCells\n",
        "      #print(\"counter aggiornato: \", knowledge.count[i])\n",
        "      if knowledge.totalCells[i] == []:\n",
        "       # print(\"tolgo lister vuote\")\n",
        "       knowledge.count[i] = -1\n",
        "        # del knowledge.totalCells[i]\n",
        "        # del knowledge.count[i]"
      ],
      "metadata": {
        "id": "Wnt33hl6NHnv"
      },
      "execution_count": 10,
      "outputs": []
    },
    {
      "cell_type": "code",
      "source": [
        "def removeAndUpdateProposition(knowledge, currentCells, cells, dictionary, index):\n",
        "\n",
        "  #print(\"rimuovo proposizioni\")\n",
        "  intersect= intersection(cells, currentCells)\n",
        "  #print(\"intersezione tra \", cells, \" e \",currentCells, \" é \", intersect)\n",
        "  diff = difference(knowledge.totalCells[index], intersect)\n",
        "  knowledge.totalCells[index] = diff\n",
        "  return len(intersect)\n",
        " "
      ],
      "metadata": {
        "id": "6ccEgqcsL0Ew"
      },
      "execution_count": 11,
      "outputs": []
    },
    {
      "cell_type": "code",
      "source": [
        "def clearKnowledge(knowledge, board):\n",
        "  for i, cells in enumerate(knowledge.totalCells):\n",
        "    if cells == [] and knowledge.count[i] == -1:\n",
        "      del knowledge.totalCells[i]\n",
        "      del knowledge.count[i]"
      ],
      "metadata": {
        "id": "DzY-JnBvVqjT"
      },
      "execution_count": 12,
      "outputs": []
    },
    {
      "cell_type": "code",
      "source": [
        "def updateKnowledge(knowledge,board):\n",
        "\n",
        "  for i,cells in enumerate(knowledge.totalCells):\n",
        "      if knowledge.count[i] == 0:\n",
        "        #print(\"trovato celle con counter 0\")\n",
        "        for cell in cells:\n",
        "          # if not(cell in cellSelected):\n",
        "          #   cellSelected.append(cell)\n",
        "\n",
        "          if board[cell].proposition > 0:\n",
        "            board[cell].proposition = -board[cell].proposition\n",
        "        removePositiveProposition(knowledge, cells, i, board)\n",
        "\n",
        "  for i,cells in enumerate(knowledge.totalCells):  \n",
        "      if knowledge.count[i] == len(cells):\n",
        "        for cell in cells:\n",
        "          if not(cell in mineDiscovered):\n",
        "            mineDiscovered.append(cell)\n",
        "          board[cell].safe = 0\n",
        "          board[cell].flag = 1\n",
        "          \n",
        "        removeNegativeProposition(knowledge, cells, i,board)"
      ],
      "metadata": {
        "id": "-LixDlcebMfF"
      },
      "execution_count": 13,
      "outputs": []
    },
    {
      "cell_type": "code",
      "source": [
        "def buildCellDictionary(board):\n",
        "  dictionary = {}\n",
        "  for row in range(SIZE):\n",
        "    for col in range(SIZE):\n",
        "      dictionary[codeId(row, col)] = createCell(board[row,col], row, col)\n",
        "  \n",
        "  return dictionary\n"
      ],
      "metadata": {
        "id": "swSXjJJEMl7H"
      },
      "execution_count": 14,
      "outputs": []
    },
    {
      "cell_type": "code",
      "source": [
        "def codeId(value1, value2):\n",
        "  return value1 * SIZE + value2 + 1"
      ],
      "metadata": {
        "id": "YQ3hswZcA3_I"
      },
      "execution_count": 15,
      "outputs": []
    },
    {
      "cell_type": "code",
      "source": [
        "def findSafeCell(board, knowledge, cellTried):\n",
        "  print(\"knowledge accumulata sino ad ora\")\n",
        "  for i,cells in enumerate(knowledge.totalCells):\n",
        "    print(cells, \" \", knowledge.count[i])\n",
        "  clauses = []\n",
        "  \n",
        "  assumptions = createAssumptions(board, knowledge)\n",
        "  print(\"assumption: \", assumptions)\n",
        "  print(\"trovate \", len(assumptions), \" assumptions\")\n",
        "  if (len(assumptions) == SIZE * SIZE):\n",
        "    return -4\n",
        "  setOfFormulas = createClauses(board, knowledge)\n",
        "  negativeSolution = ''\n",
        "  positiveSolution = ''\n",
        "  cell = 0\n",
        "  while not(positiveSolution == False) and not(negativeSolution == False) and not(cell == None):\n",
        "\n",
        "\n",
        "  \n",
        "    cell = selectCellInKnowledge(board,knowledge, cellTried)\n",
        "    if cell == None:\n",
        "      print(\"non so che cella scegliere con certezza\")\n",
        "      cell = selectAlternativeCell(board,knowledge, cellTried)\n",
        "      return cell\n",
        "    if not(cell == None):\n",
        "      cellTried.append(cell)\n",
        "\n",
        "      \n",
        "      print(\"provo a selezionare la cella: \", cell)\n",
        "\n",
        "      #print(\"con proposizione: \", board[cell].proposition)\n",
        "\n",
        "\n",
        "      positiveSolver = Solver()\n",
        "      negativeSolver = Solver()\n",
        "      for formula in setOfFormulas:\n",
        "        #print(\"clauses: \", formula.clauses)\n",
        "        for clause in formula.clauses:\n",
        "          #print(\"clause: \",clause)\n",
        "          positiveSolver.add_clause(clause)\n",
        "          negativeSolver.add_clause(clause)\n",
        "\n",
        "\n",
        "      #positiveSolver.append_formula(formula=clauses)\n",
        "      #print(\"proposition: \", int(-board[cell].proposition))\n",
        "      negativeSolver.add_clause([int(board[cell].proposition)])\n",
        "\n",
        "      \n",
        "      #negativeSolver.append_formula(clauses, no_return=True)\n",
        "      positiveSolver.add_clause([-int(board[cell].proposition)])\n",
        "\n",
        "      negativeSolution = negativeSolver.solve(assumptions = assumptions)\n",
        "      positiveSolution = positiveSolver.solve(assumptions = assumptions)\n",
        "\n",
        "      print(negativeSolution)\n",
        "      print(positiveSolution)\n",
        "\n",
        "      negativeSolver.delete()\n",
        "      positiveSolver.delete()\n",
        "\n",
        "  if negativeSolution == False:\n",
        "    print(\"ho trovato una cella safe \",cell)\n",
        "    return cell\n",
        "  elif positiveSolution == False:\n",
        "    print(\"ho trovato una mina\")\n",
        "    createKnowledge(board[cell], board, knowledge)\n",
        "    return -2\n"
      ],
      "metadata": {
        "id": "9mhoVhjEAuV-"
      },
      "execution_count": 105,
      "outputs": []
    },
    {
      "cell_type": "code",
      "source": [
        "def createKnowledge(cell, board, knowledge):\n",
        "  #print(\"creo knowledge della cella in posizione: \", cell.row, \" \", cell.col)\n",
        "  currentKnowledge = []\n",
        "  if cell.value == -1:\n",
        "    currentKnowledge.append(cell.id)\n",
        "    knowledge.count.append(1)\n",
        "  else:\n",
        "\n",
        "    currentKnowledge.append(cell.id)\n",
        "    knowledge.totalCells.append(currentKnowledge)\n",
        "    knowledge.count.append(0)\n",
        "\n",
        "    currentKnowledge = []\n",
        "    \n",
        "    value = cell.value\n",
        "    for i in range(3):\n",
        "      for j in range(3):\n",
        "        if (cell.row-1+i >= 0 and cell.row-1+i <= SIZE-1) and (cell.col-1+j >= 0 and cell.col-1+j <= SIZE-1):\n",
        "          if cell.id != board[codeId(cell.row-1+i,cell.col-1+j)].id:\n",
        "              \n",
        "              currentKnowledge.append(board[codeId(cell.row-1+i,cell.col-1+j)].id)\n",
        "  \n",
        "    knowledge.count.append(value)\n",
        "\n",
        "  knowledge.totalCells.append(currentKnowledge)\n",
        "  # print(\"knowledge accumulata sino ad ora\")\n",
        "  # for i,cells in enumerate(knowledge.totalCells):\n",
        "  #   print(cells, \" \", knowledge.count[i])\n",
        "  updateKnowledge(knowledge,board)\n",
        "  clearKnowledge(knowledge, board)\n",
        "\n",
        "  # print(\"knowledge aggiornata\")\n",
        "  # for i,cells in enumerate(knowledge.totalCells):\n",
        "  #   print(cells, \" \", knowledge.count[i])\n",
        "  # print(\"dopo l'aggiornamento: \")\n",
        "  # for i,cells in enumerate(knowledge.totalCells):\n",
        "  #   print(cells, \" \", knowledge.count[i])\n"
      ],
      "metadata": {
        "id": "POJFSdT9UtuU"
      },
      "execution_count": 17,
      "outputs": []
    },
    {
      "cell_type": "code",
      "source": [
        "def checkTrivialSafeCell(board, knowledge):\n",
        "  for i,cells in enumerate(knowledge.totalCells):\n",
        "    if knowledge.count[i] == 0:\n",
        "      \n",
        "      for cell in cells:\n",
        "        if board[cell].selected == 0:\n",
        "          return cell\n",
        "  \n",
        "  return -1"
      ],
      "metadata": {
        "id": "7_85_Nx4-mty"
      },
      "execution_count": 18,
      "outputs": []
    },
    {
      "cell_type": "code",
      "source": [
        "def selectNextSafeCell(board, knowledge):\n",
        "  inferenceCell = []\n",
        "  nextCell = checkTrivialSafeCell(board, knowledge)\n",
        "  print(\"nextCell trivial\", nextCell)\n",
        "  #if there aren't any trivial safe cell use sat solver on clause\n",
        "\n",
        "  while nextCell == -1:\n",
        "    print(\"provo trovare cella con inferenza\")\n",
        "    nextCell = findSafeCell(board,knowledge, inferenceCell)\n",
        "    print(\"nextCell inference\", nextCell)\n",
        "    print(inferenceCell)\n",
        "    if nextCell == -2:\n",
        "      print(\"ho trovato una mina con inferenza\")\n",
        "      nextCell = checkTrivialSafeCell(board,knowledge)\n",
        "\n",
        "  if nextCell == -4:\n",
        "    return -4\n",
        " \n",
        "  # if nextCell == -1:\n",
        "  #   nextCell = findSafeCell(board, knowledge)\n",
        "\n",
        "  # #if i've found a mine thanks to the solver i'll try to reuse the trivial solver\n",
        "  # if nextCell == -2:\n",
        "  #   nextCell = checkTrivialSafeCell(board, knowledge)\n",
        "\n",
        "  \n",
        " \n",
        "  result = board[nextCell]\n",
        "    \n",
        "  return result\n"
      ],
      "metadata": {
        "id": "Gj_TuZJD7gSt"
      },
      "execution_count": 106,
      "outputs": []
    },
    {
      "cell_type": "code",
      "source": [
        "def countMines(row,col,board, size):\n",
        "  counter = 0\n",
        "\n",
        "  for i in range(3):\n",
        "    for j in range(3):\n",
        "      if (row-1+i >= 0 and row-1+i <= size-1) and (col-1+j >= 0 and col-1+j <= size-1):\n",
        "        if board[row-1+i, col-1+j] == -1:\n",
        "          counter += 1\n",
        "        \n",
        "     \n",
        "  \n",
        "  return counter"
      ],
      "metadata": {
        "id": "f8AqwGfEyGxo"
      },
      "execution_count": 20,
      "outputs": []
    },
    {
      "cell_type": "code",
      "source": [
        "#function that, for each cell, counts the number of mines around it\n",
        "def fillBoard(board, size):\n",
        "  \n",
        "  for row in range(size):\n",
        "    for col in range(size):\n",
        "      if board[row,col] != -1:\n",
        "        n_mines = countMines(row, col, board, size)\n",
        "        board[row,col] = n_mines\n",
        "    \n",
        "      \n",
        "    \n",
        "  return board\n"
      ],
      "metadata": {
        "id": "rqy8GPCQNp84"
      },
      "execution_count": 21,
      "outputs": []
    },
    {
      "cell_type": "code",
      "source": [
        "\n",
        "def buildBoard(size, probability):\n",
        "  total_mines = 0\n",
        "  #board[i][j] = 0 --> no bomb\n",
        "  #board[i][j] = 1 --> bomb\n",
        "  print(\"inizializzo board di gioco\")\n",
        "  board = np.zeros((size,size))\n",
        "  for row in range(size):\n",
        "    for col in range(size):\n",
        "      randomNumber = random.uniform(0,1)\n",
        "      if randomNumber <= probability:\n",
        "        board[row,col] = -1\n",
        "        total_mines += 1\n",
        "      else:\n",
        "        board[row,col] = 0\n",
        "\n",
        "\n",
        "  board = fillBoard(board, size)\n",
        "  print(\"board di gioco inizializzata con \",total_mines, \" \",\"mine\")\n",
        "  return board\n",
        "      "
      ],
      "metadata": {
        "id": "C8ZoquJ7Fof6"
      },
      "execution_count": 22,
      "outputs": []
    },
    {
      "cell_type": "code",
      "source": [
        "def createCell(value, row, col):\n",
        "  cell = Cell()\n",
        "  cell.value = int(value)\n",
        "  \n",
        "  cell.safe = 0\n",
        "    \n",
        "  cell.selected = 0\n",
        "  cell.flag = 0\n",
        "  cell.row = row\n",
        "  cell.col = col\n",
        "  cell.proposition = int(codeId(row,col))\n",
        "  cell.id = int(codeId(row,col))\n",
        "  return cell"
      ],
      "metadata": {
        "id": "MOYsvsfKAhGj"
      },
      "execution_count": 23,
      "outputs": []
    },
    {
      "cell_type": "code",
      "source": [
        "def startGame(board, knowledge):\n",
        "  result = \"\"\n",
        "  firstCell = board[codeId(0,0)]\n",
        "  firstCell.selected = 1\n",
        "  firstCell.safe = 1\n",
        "  cellSelected.append(firstCell.id)\n",
        "\n",
        "  if firstCell.value == -1:\n",
        "    result = \"lose\"\n",
        "  else:\n",
        "    createKnowledge(firstCell, board, knowledge)\n",
        "\n",
        " \n",
        "\n",
        "  while not(result == \"win\") and not(result == \"lose\"):\n",
        "    \n",
        "    cell = selectNextSafeCell(board, knowledge)\n",
        "   \n",
        "    # if cell == -1:\n",
        "    #   return \"could not find a safe cell\"\n",
        "    \n",
        "    if (len(cellSelected) + len(mineDiscovered) == SIZE * SIZE) or cell == -4:\n",
        "      victory = checkForVictory(board, knowledge)\n",
        "      if victory:\n",
        "        result = \"win\"\n",
        "      else:\n",
        "        return \"An error occured\"\n",
        "    else:\n",
        "      print(\"ho selezionato la cella \", cell.id)\n",
        "      cell.selected = 1\n",
        "      cell.safe = 1\n",
        "      if not(cell.id in cellSelected):\n",
        "        cellSelected.append(cell.id)\n",
        "     \n",
        "\n",
        "      if cell.value == -1:\n",
        "        result = \"lose\"\n",
        "      else:\n",
        "        createKnowledge(cell, board, knowledge)\n",
        "\n",
        "\n",
        "  return result"
      ],
      "metadata": {
        "id": "fc8d0djV406l"
      },
      "execution_count": 119,
      "outputs": []
    },
    {
      "cell_type": "code",
      "source": [
        "class InternalRepresentation:\n",
        "  def __init__(self) -> None:\n",
        "    self.totalCells = []\n",
        "    self.count = []"
      ],
      "metadata": {
        "id": "Klb6U-jLlhHi"
      },
      "execution_count": 25,
      "outputs": []
    },
    {
      "cell_type": "code",
      "source": [
        "class Cell:\n",
        "  def __init__(self) -> None:\n",
        "    self.safe = 0\n",
        "    self.value = 0\n",
        "    self.proposition = 0\n",
        "    self.id = 0\n",
        "    self.selected = 0\n",
        "    self.row = 0\n",
        "    self.col = 0\n",
        "    self.flag = 0"
      ],
      "metadata": {
        "id": "o6LZuAXRlhrP"
      },
      "execution_count": 26,
      "outputs": []
    },
    {
      "cell_type": "code",
      "source": [
        "#build a 9x9 board\n",
        "SIZE = 9\n",
        "bomb_probability = 1/6\n",
        "board = buildBoard(SIZE, bomb_probability)\n",
        "print(board)"
      ],
      "metadata": {
        "id": "9EwPzHazldrG",
        "colab": {
          "base_uri": "https://localhost:8080/"
        },
        "outputId": "835126c6-6ba3-4ab1-8603-29022e5f5014"
      },
      "execution_count": 148,
      "outputs": [
        {
          "output_type": "stream",
          "name": "stdout",
          "text": [
            "inizializzo board di gioco\n",
            "board di gioco inizializzata con  9   mine\n",
            "[[ 0.  0.  0.  1. -1.  2.  1.  0.  0.]\n",
            " [ 0.  0.  1.  2.  3. -1.  1.  0.  0.]\n",
            " [ 0.  0.  1. -1.  2.  1.  1.  1.  1.]\n",
            " [ 1.  1.  2.  1.  1.  0.  0.  1. -1.]\n",
            " [ 1. -1.  1.  1.  2.  2.  1.  1.  1.]\n",
            " [ 1.  1.  1.  2. -1. -1.  1.  0.  0.]\n",
            " [ 1.  1.  0.  2. -1.  3.  1.  0.  0.]\n",
            " [-1.  1.  0.  1.  1.  1.  0.  0.  0.]\n",
            " [ 1.  1.  0.  0.  0.  0.  0.  0.  0.]]\n"
          ]
        }
      ]
    },
    {
      "cell_type": "code",
      "source": [
        "#start game from the up-left corner\n",
        "knowledge = InternalRepresentation();\n",
        "cellSelected = []\n",
        "mineDiscovered = []\n",
        "boardDictionary = buildCellDictionary(board)\n",
        "result = startGame(boardDictionary, knowledge)\n",
        "print(\"risultato: \", result);      "
      ],
      "metadata": {
        "id": "zFypVh6jCALH"
      },
      "execution_count": null,
      "outputs": []
    }
  ]
}